{
 "cells": [
  {
   "cell_type": "code",
   "execution_count": 0,
   "metadata": {
    "colab": {},
    "colab_type": "code",
    "id": "HCd5lZ2HP1h_"
   },
   "outputs": [],
   "source": [
    "from google.colab import drive\n",
    "drive.mount('/content/gdrive')"
   ]
  },
  {
   "cell_type": "code",
   "execution_count": 0,
   "metadata": {
    "colab": {},
    "colab_type": "code",
    "id": "DPwxGvCPQhSy"
   },
   "outputs": [],
   "source": [
    "import os\n",
    "os.makedirs('/root/.kaggle',exist_ok = True)\n",
    "!cp /content/gdrive/My\\ Drive/DeepLearning/kaggle/kaggle.json /root/.kaggle/kaggle.json"
   ]
  },
  {
   "cell_type": "code",
   "execution_count": 0,
   "metadata": {
    "colab": {},
    "colab_type": "code",
    "id": "cjTrLEb_Rdy4"
   },
   "outputs": [],
   "source": [
    "!kaggle competitions download -c the-nature-conservancy-fisheries-monitoring"
   ]
  },
  {
   "cell_type": "code",
   "execution_count": 0,
   "metadata": {
    "colab": {},
    "colab_type": "code",
    "id": "DYncuKx8QNQq"
   },
   "outputs": [],
   "source": [
    "!kaggle datasets download -d ningyue1/alexnet1"
   ]
  },
  {
   "cell_type": "code",
   "execution_count": 0,
   "metadata": {
    "colab": {},
    "colab_type": "code",
    "id": "uSrmto9RmmTt"
   },
   "outputs": [],
   "source": [
    "# 解压预训练权重\n",
    "! unzip /content/alexnet1.zip"
   ]
  },
  {
   "cell_type": "code",
   "execution_count": 0,
   "metadata": {
    "colab": {},
    "colab_type": "code",
    "id": "R76oA_vRP7CV"
   },
   "outputs": [],
   "source": [
    "# 解压训练集数据\n",
    "! unzip /content/train.zip"
   ]
  },
  {
   "cell_type": "code",
   "execution_count": 0,
   "metadata": {
    "colab": {},
    "colab_type": "code",
    "id": "VbmWR0kYmdnV"
   },
   "outputs": [],
   "source": [
    "# 解压第一部分测试集数据\n",
    "!unzip /content/test_stg1.zip"
   ]
  },
  {
   "cell_type": "code",
   "execution_count": 0,
   "metadata": {
    "colab": {},
    "colab_type": "code",
    "id": "k13RbwpkP2rk"
   },
   "outputs": [],
   "source": [
    "# 解压第二部分测试集数据\n",
    "!7za x test_stg2.7z"
   ]
  },
  {
   "cell_type": "code",
   "execution_count": 0,
   "metadata": {
    "colab": {
     "base_uri": "https://localhost:8080/",
     "height": 34
    },
    "colab_type": "code",
    "id": "som2cixIQ_f_",
    "outputId": "b5be18b4-7eba-4fdc-ba09-857b7a25492a"
   },
   "outputs": [
    {
     "name": "stderr",
     "output_type": "stream",
     "text": [
      "Using TensorFlow backend.\n"
     ]
    }
   ],
   "source": [
    "import numpy as np\n",
    "import pandas as pd\n",
    "import tensorflow as tf\n",
    "import matplotlib.pyplot as plt\n",
    "import os,cv2\n",
    "from sklearn.preprocessing import LabelEncoder\n",
    "from keras.utils import np_utils\n",
    "from sklearn.model_selection import train_test_split"
   ]
  },
  {
   "cell_type": "code",
   "execution_count": 0,
   "metadata": {
    "colab": {},
    "colab_type": "code",
    "id": "aAcxv3rgS4fC"
   },
   "outputs": [],
   "source": [
    "# 定义取图片的路径\n",
    "TRAIN_DIR = '/content/train/'\n",
    "TEST_DIR = '/content/test_stg2/'\n",
    "WEIGHT_DIR = '/content/bvlc_alexnet.npy'\n",
    "FISH_CLASSES = ['ALB', 'BET', 'DOL', 'LAG', 'NoF', 'OTHER', 'SHARK', 'YFT']"
   ]
  },
  {
   "cell_type": "markdown",
   "metadata": {
    "colab_type": "text",
    "id": "cIrfjQyYPIaA"
   },
   "source": []
  },
  {
   "cell_type": "code",
   "execution_count": 0,
   "metadata": {
    "colab": {},
    "colab_type": "code",
    "id": "X93R-ZYIUAR8"
   },
   "outputs": [],
   "source": [
    "# 获取图片的路径方法\n",
    "def get_images(data_dir,fish):\n",
    "    \"\"\"Load files from train folder\"\"\"\n",
    "    fish_dir = data_dir+'{}'.format(fish)\n",
    "    images = [fish+'/'+im for im in os.listdir(fish_dir)]\n",
    "    return images\n",
    "# 将图片读入内存\n",
    "def read_image(src):\n",
    "    \"\"\"Read and resize individual images\"\"\"\n",
    "    im = cv2.imread(src, cv2.IMREAD_COLOR)\n",
    "    im = cv2.resize(im, (227, 227), interpolation=cv2.INTER_CUBIC)\n",
    "    return im"
   ]
  },
  {
   "cell_type": "code",
   "execution_count": 0,
   "metadata": {
    "colab": {
     "base_uri": "https://localhost:8080/",
     "height": 151
    },
    "colab_type": "code",
    "id": "rdUxLoRyUCxc",
    "outputId": "3445132f-2f75-4b4d-97a8-3a247e580223"
   },
   "outputs": [
    {
     "name": "stdout",
     "output_type": "stream",
     "text": [
      "1719 photos of ALB\n",
      "200 photos of BET\n",
      "117 photos of DOL\n",
      "67 photos of LAG\n",
      "465 photos of NoF\n",
      "299 photos of OTHER\n",
      "176 photos of SHARK\n",
      "734 photos of YFT\n"
     ]
    }
   ],
   "source": [
    "# 获取训练数据\n",
    "files = []\n",
    "y_all = []\n",
    "\n",
    "for fish in FISH_CLASSES:\n",
    "    fish_files = get_images(TRAIN_DIR,fish)\n",
    "    files.extend(fish_files)\n",
    "    \n",
    "    y_fish = np.tile(fish, len(fish_files))\n",
    "    y_all.extend(y_fish)\n",
    "    print(\"{0} photos of {1}\".format(len(fish_files), fish))\n",
    "    \n",
    "y_all = np.array(y_all)"
   ]
  },
  {
   "cell_type": "code",
   "execution_count": 0,
   "metadata": {
    "colab": {
     "base_uri": "https://localhost:8080/",
     "height": 101
    },
    "colab_type": "code",
    "id": "hez8qH0zZeDO",
    "outputId": "3cd85b47-1560-477f-dac8-3ef5fb4c0dab"
   },
   "outputs": [
    {
     "name": "stdout",
     "output_type": "stream",
     "text": [
      "Processed 0 of 3777\n",
      "Processed 1000 of 3777\n",
      "Processed 2000 of 3777\n",
      "Processed 3000 of 3777\n",
      "(3777, 227, 227, 3)\n"
     ]
    }
   ],
   "source": [
    "# 将所有图片加载到内存中\n",
    "X = np.ndarray((len(files), 227, 227, 3))\n",
    "\n",
    "for i, im in enumerate(files): \n",
    "    X[i] = read_image(TRAIN_DIR+im)\n",
    "    if i%1000 == 0: print('Processed {} of {}'.format(i, len(files)))\n",
    "print(X.shape)"
   ]
  },
  {
   "cell_type": "code",
   "execution_count": 0,
   "metadata": {
    "colab": {},
    "colab_type": "code",
    "id": "32_GQBxoanRJ"
   },
   "outputs": [],
   "source": [
    "# 转化为one-hot编码\n",
    "y = LabelEncoder().fit_transform(y_all)\n",
    "y = np_utils.to_categorical(y)"
   ]
  },
  {
   "cell_type": "code",
   "execution_count": 0,
   "metadata": {
    "colab": {},
    "colab_type": "code",
    "id": "9KtRELjCatTD"
   },
   "outputs": [],
   "source": [
    "X_train, X_valid, y_train, y_valid = train_test_split(X, y, \n",
    "                                                    test_size=0.2, random_state=23, \n",
    "                                                    stratify=y)"
   ]
  },
  {
   "cell_type": "code",
   "execution_count": 0,
   "metadata": {
    "colab": {
     "base_uri": "https://localhost:8080/",
     "height": 34
    },
    "colab_type": "code",
    "id": "hrwH460Vavhk",
    "outputId": "84c17895-2954-41c8-a32d-3fd4a1daf529"
   },
   "outputs": [
    {
     "name": "stdout",
     "output_type": "stream",
     "text": [
      "(3021, 227, 227, 3) (756, 227, 227, 3) (3021, 8) (756, 8)\n"
     ]
    }
   ],
   "source": [
    "print(X_train.shape,X_valid.shape,y_train.shape,y_valid.shape)"
   ]
  },
  {
   "cell_type": "code",
   "execution_count": 0,
   "metadata": {
    "colab": {},
    "colab_type": "code",
    "id": "eCmeH3VNay-K"
   },
   "outputs": [],
   "source": [
    "# 加载预训练的权重\n",
    "pre_weight = np.load(WEIGHT_DIR,encoding='bytes',allow_pickle=True).item()"
   ]
  },
  {
   "cell_type": "code",
   "execution_count": 0,
   "metadata": {
    "colab": {},
    "colab_type": "code",
    "id": "1gE5P5AUa2Wq"
   },
   "outputs": [],
   "source": [
    "# 学习参数\n",
    "learning_rate = 0.003\n",
    "num_epochs = 50\n",
    "batch_size = 64\n",
    "batch_num = 47\n",
    "\n",
    "# 网络参数\n",
    "dropout_rate = 0.5\n",
    "num_classes = 8\n",
    "train_layers = ['fc8', 'fc7', 'fc6']\n",
    "\n",
    "# 多久将tf.summary写入磁盘\n",
    "display_step = 20"
   ]
  },
  {
   "cell_type": "code",
   "execution_count": 0,
   "metadata": {
    "colab": {},
    "colab_type": "code",
    "id": "YRc1U9qYa7WZ"
   },
   "outputs": [],
   "source": [
    "# 构建模型\n",
    "x = tf.placeholder(tf.float32, [None, 227, 227, 3])\n",
    "y = tf.placeholder(tf.int32, [None, num_classes])\n",
    "\n",
    "W_conv = {\n",
    "    'conv1': tf.Variable(pre_weight['conv1'][0],trainable=False),\n",
    "    'conv2': tf.Variable(pre_weight['conv2'][0],trainable=False),\n",
    "    'conv3': tf.Variable(pre_weight['conv3'][0],trainable=False),\n",
    "    'conv4': tf.Variable(pre_weight['conv4'][0],trainable=False),\n",
    "    'conv5': tf.Variable(pre_weight['conv5'][0],trainable=False),\n",
    "    'fc1': tf.Variable(pre_weight['fc6'][0],trainable=False),\n",
    "    'fc2': tf.Variable(tf.truncated_normal([4096, 4096], stddev=0.1)),\n",
    "    'fc3': tf.Variable(tf.truncated_normal([4096, num_classes], stddev=0.1))\n",
    "}\n",
    "b_conv = {\n",
    "    'conv1': tf.Variable(pre_weight['conv1'][1],trainable=False),\n",
    "    'conv2': tf.Variable(pre_weight['conv2'][1],trainable=False),\n",
    "    'conv3': tf.Variable(pre_weight['conv3'][1],trainable=False),\n",
    "    'conv4': tf.Variable(pre_weight['conv4'][1],trainable=False),\n",
    "    'conv5': tf.Variable(pre_weight['conv5'][1],trainable=False),\n",
    "    'fc1': tf.Variable(pre_weight['fc6'][1],trainable=False),\n",
    "    'fc2': tf.Variable(tf.constant(0.1, dtype=tf.float32, shape=[4096])),\n",
    "    'fc3': tf.Variable(tf.constant(0.0, dtype=tf.float32, shape=[num_classes]))\n",
    "}"
   ]
  },
  {
   "cell_type": "code",
   "execution_count": 0,
   "metadata": {
    "colab": {
     "base_uri": "https://localhost:8080/",
     "height": 107
    },
    "colab_type": "code",
    "id": "G0zm2AN6a_v4",
    "outputId": "4bd1c6c5-3c6d-4b9c-8bdd-1090b3f54b07"
   },
   "outputs": [
    {
     "name": "stderr",
     "output_type": "stream",
     "text": [
      "WARNING: Logging before flag parsing goes to stderr.\n",
      "W0716 07:21:23.151673 140263705421696 deprecation.py:506] From <ipython-input-13-58eeb1ebcff1>:39: calling dropout (from tensorflow.python.ops.nn_ops) with keep_prob is deprecated and will be removed in a future version.\n",
      "Instructions for updating:\n",
      "Please use `rate` instead of `keep_prob`. Rate should be set to `rate = 1 - keep_prob`.\n"
     ]
    }
   ],
   "source": [
    "# 卷积层 1\n",
    "conv1 = tf.nn.conv2d(x, W_conv['conv1'], strides=[1, 4, 4, 1], padding='VALID')\n",
    "conv1 = tf.nn.bias_add(conv1, b_conv['conv1'])\n",
    "conv1 = tf.nn.relu(conv1)\n",
    "# LRN层，Local Response Normalization\n",
    "norm1 = tf.nn.lrn(conv1, 5, bias=1.0, alpha=0.001 / 9.0, beta=0.75)\n",
    "# 池化层 1\n",
    "pool1 = tf.nn.max_pool(norm1, ksize=[1, 3, 3, 1], strides=[1, 2, 2, 1], padding='VALID')\n",
    "\n",
    "#卷积层 2\n",
    "conv2 = tf.nn.conv2d(pool1, W_conv['conv2'], strides=[1, 1, 1, 1], padding='SAME')\n",
    "conv2 = tf.nn.bias_add(conv2, b_conv['conv2'])\n",
    "conv2 = tf.nn.relu(conv2)\n",
    "# LRN层，Local Response Normalization\n",
    "norm2 = tf.nn.lrn(conv2, 5, bias=1.0, alpha=0.001 / 9.0, beta=0.75)\n",
    "# 池化层 2\n",
    "pool2 = tf.nn.max_pool(norm2, ksize=[1, 3, 3, 1], strides=[1, 2, 2, 1], padding='VALID')\n",
    "\n",
    "# 卷积层3\n",
    "conv3 = tf.nn.conv2d(pool2, W_conv['conv3'], strides=[1, 1, 1, 1], padding='SAME')\n",
    "conv3 = tf.nn.bias_add(conv3, b_conv['conv3'])\n",
    "conv3 = tf.nn.relu(conv3)\n",
    "\n",
    "# 卷积层4\n",
    "conv4 = tf.nn.conv2d(conv3, W_conv['conv4'], strides=[1, 1, 1, 1], padding='SAME')\n",
    "conv4 = tf.nn.bias_add(conv4, b_conv['conv4'])\n",
    "conv4 = tf.nn.relu(conv4)\n",
    "\n",
    "# 卷积层5\n",
    "conv5 = tf.nn.conv2d(conv4, W_conv['conv5'], strides=[1, 1, 1, 1], padding='SAME')\n",
    "conv5 = tf.nn.bias_add(conv5, b_conv['conv5'])\n",
    "conv5 = tf.nn.relu(conv5)\n",
    "# 池化层5\n",
    "pool5 = tf.nn.max_pool(conv5, ksize=[1, 3, 3, 1], strides=[1, 2, 2, 1], padding='VALID')\n",
    "\n",
    "reshape = tf.reshape(pool5, [-1, 6 * 6 * 256])\n",
    "\n",
    "fc1 = tf.add(tf.matmul(reshape, W_conv['fc1']), b_conv['fc1'])\n",
    "fc1 = tf.nn.relu(fc1)\n",
    "fc1 = tf.nn.dropout(fc1, 0.5)\n",
    "# 全连接层 2\n",
    "fc2 = tf.add(tf.matmul(fc1, W_conv['fc2']), b_conv['fc2'])\n",
    "fc2 = tf.nn.relu(fc2)\n",
    "fc2 = tf.nn.dropout(fc2, 0.5)\n",
    "# 全连接层 3, 即分类层\n",
    "fc3 = tf.add(tf.matmul(fc2, W_conv['fc3']), b_conv['fc3'])"
   ]
  },
  {
   "cell_type": "code",
   "execution_count": 0,
   "metadata": {
    "colab": {},
    "colab_type": "code",
    "id": "mURs1oy1bDWB"
   },
   "outputs": [],
   "source": [
    "# 定义损失\n",
    "loss = tf.reduce_mean(tf.nn.softmax_cross_entropy_with_logits_v2(logits=fc3, labels=y))\n",
    "optimizer = tf.train.GradientDescentOptimizer(learning_rate=learning_rate).minimize(loss)\n",
    "# 评估模型\n",
    "correct_pred = tf.equal(tf.argmax(fc3, 1), tf.argmax(y, 1))\n",
    "accuracy = tf.reduce_mean(tf.cast(correct_pred, tf.float32))"
   ]
  },
  {
   "cell_type": "code",
   "execution_count": 0,
   "metadata": {
    "colab": {
     "base_uri": "https://localhost:8080/",
     "height": 1000
    },
    "colab_type": "code",
    "id": "kNlNCgG6bFgQ",
    "outputId": "e000170b-2ee6-4b70-fe26-6de5ce7a6cba"
   },
   "outputs": [
    {
     "name": "stdout",
     "output_type": "stream",
     "text": [
      "Epoch:  0 Batch     0 Loss:  44.370239 Accuracy: 0.484375\n",
      "Epoch:  0 Batch    10 Loss:  49.111614 Accuracy: 0.390625\n",
      "Epoch:  0 Batch    20 Loss:  28.110809 Accuracy: 0.593750\n",
      "Epoch:  0 Batch    30 Loss:  33.147087 Accuracy: 0.500000\n",
      "Epoch:  0 Batch    40 Loss:  22.182247 Accuracy: 0.531250\n",
      "Epoch:  1 Batch     0 Loss:  26.174402 Accuracy: 0.531250\n",
      "Epoch:  1 Batch    10 Loss:  31.976316 Accuracy: 0.531250\n",
      "Epoch:  1 Batch    20 Loss:  28.280945 Accuracy: 0.609375\n",
      "Epoch:  1 Batch    30 Loss:  18.346161 Accuracy: 0.531250\n",
      "Epoch:  1 Batch    40 Loss:  27.141014 Accuracy: 0.531250\n",
      "Epoch:  2 Batch     0 Loss:  17.594864 Accuracy: 0.593750\n",
      "Epoch:  2 Batch    10 Loss:  18.017454 Accuracy: 0.484375\n",
      "Epoch:  2 Batch    20 Loss:  17.151209 Accuracy: 0.640625\n",
      "Epoch:  2 Batch    30 Loss:  22.497936 Accuracy: 0.515625\n",
      "Epoch:  2 Batch    40 Loss:  19.007866 Accuracy: 0.578125\n",
      "Epoch:  3 Batch     0 Loss:  16.737545 Accuracy: 0.625000\n",
      "Epoch:  3 Batch    10 Loss:  21.045330 Accuracy: 0.531250\n",
      "Epoch:  3 Batch    20 Loss:  12.819302 Accuracy: 0.703125\n",
      "Epoch:  3 Batch    30 Loss:  15.500498 Accuracy: 0.578125\n",
      "Epoch:  3 Batch    40 Loss:  10.781385 Accuracy: 0.765625\n",
      "Epoch:  4 Batch     0 Loss:  13.117532 Accuracy: 0.703125\n",
      "Epoch:  4 Batch    10 Loss:  16.115742 Accuracy: 0.562500\n",
      "Epoch:  4 Batch    20 Loss:   9.204329 Accuracy: 0.703125\n",
      "Epoch:  4 Batch    30 Loss:  14.166411 Accuracy: 0.625000\n",
      "Epoch:  4 Batch    40 Loss:  17.692333 Accuracy: 0.703125\n",
      "Epoch:  5 Batch     0 Loss:   9.863650 Accuracy: 0.593750\n",
      "Epoch:  5 Batch    10 Loss:   9.539261 Accuracy: 0.578125\n",
      "Epoch:  5 Batch    20 Loss:  14.233100 Accuracy: 0.796875\n",
      "Epoch:  5 Batch    30 Loss:   9.490070 Accuracy: 0.640625\n",
      "Epoch:  5 Batch    40 Loss:  12.134165 Accuracy: 0.687500\n",
      "Epoch:  6 Batch     0 Loss:  11.353878 Accuracy: 0.640625\n",
      "Epoch:  6 Batch    10 Loss:  15.331360 Accuracy: 0.656250\n",
      "Epoch:  6 Batch    20 Loss:  12.052248 Accuracy: 0.734375\n",
      "Epoch:  6 Batch    30 Loss:  12.166943 Accuracy: 0.687500\n",
      "Epoch:  6 Batch    40 Loss:   9.297036 Accuracy: 0.703125\n",
      "Epoch:  7 Batch     0 Loss:  15.661610 Accuracy: 0.750000\n",
      "Epoch:  7 Batch    10 Loss:   9.049358 Accuracy: 0.718750\n",
      "Epoch:  7 Batch    20 Loss:   9.545828 Accuracy: 0.671875\n",
      "Epoch:  7 Batch    30 Loss:   8.722930 Accuracy: 0.734375\n",
      "Epoch:  7 Batch    40 Loss:  10.954120 Accuracy: 0.703125\n",
      "Epoch:  8 Batch     0 Loss:  13.185340 Accuracy: 0.687500\n",
      "Epoch:  8 Batch    10 Loss:  14.284737 Accuracy: 0.593750\n",
      "Epoch:  8 Batch    20 Loss:  11.814267 Accuracy: 0.812500\n",
      "Epoch:  8 Batch    30 Loss:  11.370802 Accuracy: 0.640625\n",
      "Epoch:  8 Batch    40 Loss:  12.892357 Accuracy: 0.718750\n",
      "Epoch:  9 Batch     0 Loss:   5.655309 Accuracy: 0.781250\n",
      "Epoch:  9 Batch    10 Loss:   9.898626 Accuracy: 0.734375\n",
      "Epoch:  9 Batch    20 Loss:   5.702578 Accuracy: 0.750000\n",
      "Epoch:  9 Batch    30 Loss:   6.862980 Accuracy: 0.734375\n",
      "Epoch:  9 Batch    40 Loss:  10.880615 Accuracy: 0.703125\n",
      "Epoch: 10 Batch     0 Loss:   3.733966 Accuracy: 0.781250\n",
      "Epoch: 10 Batch    10 Loss:   6.498370 Accuracy: 0.671875\n",
      "Epoch: 10 Batch    20 Loss:   8.332078 Accuracy: 0.781250\n",
      "Epoch: 10 Batch    30 Loss:   4.311407 Accuracy: 0.750000\n",
      "Epoch: 10 Batch    40 Loss:   8.019188 Accuracy: 0.703125\n",
      "Epoch: 11 Batch     0 Loss:   8.315784 Accuracy: 0.750000\n",
      "Epoch: 11 Batch    10 Loss:   9.064375 Accuracy: 0.703125\n",
      "Epoch: 11 Batch    20 Loss:   9.760331 Accuracy: 0.703125\n",
      "Epoch: 11 Batch    30 Loss:   5.939597 Accuracy: 0.687500\n",
      "Epoch: 11 Batch    40 Loss:   3.821682 Accuracy: 0.875000\n",
      "Epoch: 12 Batch     0 Loss:   6.005259 Accuracy: 0.875000\n",
      "Epoch: 12 Batch    10 Loss:   8.163589 Accuracy: 0.734375\n",
      "Epoch: 12 Batch    20 Loss:   6.166767 Accuracy: 0.750000\n",
      "Epoch: 12 Batch    30 Loss:   4.619365 Accuracy: 0.812500\n",
      "Epoch: 12 Batch    40 Loss:   4.494149 Accuracy: 0.765625\n",
      "Epoch: 13 Batch     0 Loss:   6.389455 Accuracy: 0.734375\n",
      "Epoch: 13 Batch    10 Loss:   4.862554 Accuracy: 0.796875\n",
      "Epoch: 13 Batch    20 Loss:   7.308427 Accuracy: 0.796875\n",
      "Epoch: 13 Batch    30 Loss:   5.276606 Accuracy: 0.781250\n",
      "Epoch: 13 Batch    40 Loss:   7.122434 Accuracy: 0.750000\n",
      "Epoch: 14 Batch     0 Loss:   4.641502 Accuracy: 0.828125\n",
      "Epoch: 14 Batch    10 Loss:   6.754623 Accuracy: 0.796875\n",
      "Epoch: 14 Batch    20 Loss:   3.576982 Accuracy: 0.750000\n",
      "Epoch: 14 Batch    30 Loss:   6.528082 Accuracy: 0.703125\n",
      "Epoch: 14 Batch    40 Loss:   6.633056 Accuracy: 0.796875\n",
      "Epoch: 15 Batch     0 Loss:   3.824027 Accuracy: 0.718750\n",
      "Epoch: 15 Batch    10 Loss:   3.442614 Accuracy: 0.734375\n",
      "Epoch: 15 Batch    20 Loss:   5.973867 Accuracy: 0.812500\n",
      "Epoch: 15 Batch    30 Loss:   6.918699 Accuracy: 0.843750\n",
      "Epoch: 15 Batch    40 Loss:   5.556646 Accuracy: 0.765625\n",
      "Epoch: 16 Batch     0 Loss:   5.755853 Accuracy: 0.781250\n",
      "Epoch: 16 Batch    10 Loss:   6.349959 Accuracy: 0.765625\n",
      "Epoch: 16 Batch    20 Loss:   4.826474 Accuracy: 0.750000\n",
      "Epoch: 16 Batch    30 Loss:   6.038628 Accuracy: 0.781250\n",
      "Epoch: 16 Batch    40 Loss:   3.430520 Accuracy: 0.796875\n",
      "Epoch: 17 Batch     0 Loss:   6.331603 Accuracy: 0.765625\n",
      "Epoch: 17 Batch    10 Loss:   4.188353 Accuracy: 0.781250\n",
      "Epoch: 17 Batch    20 Loss:   4.129750 Accuracy: 0.875000\n",
      "Epoch: 17 Batch    30 Loss:   2.834601 Accuracy: 0.812500\n",
      "Epoch: 17 Batch    40 Loss:   4.504813 Accuracy: 0.828125\n",
      "Epoch: 18 Batch     0 Loss:   3.424830 Accuracy: 0.687500\n",
      "Epoch: 18 Batch    10 Loss:   3.979442 Accuracy: 0.750000\n",
      "Epoch: 18 Batch    20 Loss:   3.008240 Accuracy: 0.796875\n",
      "Epoch: 18 Batch    30 Loss:   4.299685 Accuracy: 0.750000\n",
      "Epoch: 18 Batch    40 Loss:   7.640313 Accuracy: 0.687500\n",
      "Epoch: 19 Batch     0 Loss:   3.655035 Accuracy: 0.859375\n",
      "Epoch: 19 Batch    10 Loss:   3.256989 Accuracy: 0.781250\n",
      "Epoch: 19 Batch    20 Loss:   5.882451 Accuracy: 0.843750\n",
      "Epoch: 19 Batch    30 Loss:   2.014123 Accuracy: 0.796875\n",
      "Epoch: 19 Batch    40 Loss:   6.940083 Accuracy: 0.828125\n",
      "Epoch: 20 Batch     0 Loss:   4.018505 Accuracy: 0.812500\n",
      "Epoch: 20 Batch    10 Loss:   3.090340 Accuracy: 0.796875\n",
      "Epoch: 20 Batch    20 Loss:   3.919204 Accuracy: 0.781250\n",
      "Epoch: 20 Batch    30 Loss:   5.329645 Accuracy: 0.796875\n",
      "Epoch: 20 Batch    40 Loss:   2.821626 Accuracy: 0.750000\n",
      "Epoch: 21 Batch     0 Loss:   3.060002 Accuracy: 0.812500\n",
      "Epoch: 21 Batch    10 Loss:   4.211382 Accuracy: 0.812500\n",
      "Epoch: 21 Batch    20 Loss:   2.517885 Accuracy: 0.812500\n",
      "Epoch: 21 Batch    30 Loss:   3.889614 Accuracy: 0.812500\n",
      "Epoch: 21 Batch    40 Loss:   4.685802 Accuracy: 0.875000\n",
      "Epoch: 22 Batch     0 Loss:   4.099603 Accuracy: 0.843750\n",
      "Epoch: 22 Batch    10 Loss:   8.291560 Accuracy: 0.765625\n",
      "Epoch: 22 Batch    20 Loss:   2.943091 Accuracy: 0.890625\n",
      "Epoch: 22 Batch    30 Loss:   2.833164 Accuracy: 0.796875\n",
      "Epoch: 22 Batch    40 Loss:   2.750455 Accuracy: 0.812500\n",
      "Epoch: 23 Batch     0 Loss:   3.262494 Accuracy: 0.781250\n",
      "Epoch: 23 Batch    10 Loss:   4.124393 Accuracy: 0.859375\n",
      "Epoch: 23 Batch    20 Loss:   4.869395 Accuracy: 0.843750\n",
      "Epoch: 23 Batch    30 Loss:   6.172536 Accuracy: 0.875000\n",
      "Epoch: 23 Batch    40 Loss:   2.649161 Accuracy: 0.796875\n",
      "Epoch: 24 Batch     0 Loss:   2.127491 Accuracy: 0.875000\n",
      "Epoch: 24 Batch    10 Loss:   2.024241 Accuracy: 0.859375\n",
      "Epoch: 24 Batch    20 Loss:   4.132160 Accuracy: 0.890625\n",
      "Epoch: 24 Batch    30 Loss:   4.191813 Accuracy: 0.765625\n",
      "Epoch: 24 Batch    40 Loss:   2.547916 Accuracy: 0.859375\n",
      "Epoch: 25 Batch     0 Loss:   5.323163 Accuracy: 0.750000\n",
      "Epoch: 25 Batch    10 Loss:   6.160571 Accuracy: 0.781250\n",
      "Epoch: 25 Batch    20 Loss:   2.894150 Accuracy: 0.796875\n",
      "Epoch: 25 Batch    30 Loss:   3.506212 Accuracy: 0.859375\n",
      "Epoch: 25 Batch    40 Loss:   3.370139 Accuracy: 0.828125\n",
      "Epoch: 26 Batch     0 Loss:   2.677198 Accuracy: 0.781250\n",
      "Epoch: 26 Batch    10 Loss:   3.074789 Accuracy: 0.812500\n",
      "Epoch: 26 Batch    20 Loss:   2.827884 Accuracy: 0.812500\n",
      "Epoch: 26 Batch    30 Loss:   0.816549 Accuracy: 0.812500\n",
      "Epoch: 26 Batch    40 Loss:   6.957609 Accuracy: 0.828125\n",
      "Epoch: 27 Batch     0 Loss:   2.510416 Accuracy: 0.703125\n",
      "Epoch: 27 Batch    10 Loss:   2.551594 Accuracy: 0.875000\n",
      "Epoch: 27 Batch    20 Loss:   2.377584 Accuracy: 0.796875\n",
      "Epoch: 27 Batch    30 Loss:   1.876081 Accuracy: 0.843750\n",
      "Epoch: 27 Batch    40 Loss:   4.877151 Accuracy: 0.843750\n",
      "Epoch: 28 Batch     0 Loss:   3.372984 Accuracy: 0.953125\n",
      "Epoch: 28 Batch    10 Loss:   3.915130 Accuracy: 0.828125\n",
      "Epoch: 28 Batch    20 Loss:   1.736449 Accuracy: 0.890625\n",
      "Epoch: 28 Batch    30 Loss:   3.572283 Accuracy: 0.875000\n",
      "Epoch: 28 Batch    40 Loss:   5.286955 Accuracy: 0.828125\n",
      "Epoch: 29 Batch     0 Loss:   3.518425 Accuracy: 0.734375\n",
      "Epoch: 29 Batch    10 Loss:   3.529516 Accuracy: 0.750000\n",
      "Epoch: 29 Batch    20 Loss:   3.723018 Accuracy: 0.796875\n",
      "Epoch: 29 Batch    30 Loss:   3.561167 Accuracy: 0.796875\n",
      "Epoch: 29 Batch    40 Loss:   3.178665 Accuracy: 0.812500\n",
      "Epoch: 30 Batch     0 Loss:   1.113768 Accuracy: 0.828125\n",
      "Epoch: 30 Batch    10 Loss:   5.252995 Accuracy: 0.843750\n",
      "Epoch: 30 Batch    20 Loss:   1.758753 Accuracy: 0.859375\n",
      "Epoch: 30 Batch    30 Loss:   4.310544 Accuracy: 0.859375\n",
      "Epoch: 30 Batch    40 Loss:   3.658864 Accuracy: 0.812500\n",
      "Epoch: 31 Batch     0 Loss:   2.646659 Accuracy: 0.843750\n",
      "Epoch: 31 Batch    10 Loss:   3.927136 Accuracy: 0.812500\n",
      "Epoch: 31 Batch    20 Loss:   3.460220 Accuracy: 0.828125\n",
      "Epoch: 31 Batch    30 Loss:   3.496031 Accuracy: 0.859375\n",
      "Epoch: 31 Batch    40 Loss:   4.959147 Accuracy: 0.921875\n",
      "Epoch: 32 Batch     0 Loss:   4.477676 Accuracy: 0.812500\n",
      "Epoch: 32 Batch    10 Loss:   3.266903 Accuracy: 0.890625\n",
      "Epoch: 32 Batch    20 Loss:   1.925461 Accuracy: 0.859375\n",
      "Epoch: 32 Batch    30 Loss:   2.857473 Accuracy: 0.796875\n",
      "Epoch: 32 Batch    40 Loss:   2.195718 Accuracy: 0.890625\n",
      "Epoch: 33 Batch     0 Loss:   2.006979 Accuracy: 0.921875\n",
      "Epoch: 33 Batch    10 Loss:   2.689264 Accuracy: 0.796875\n",
      "Epoch: 33 Batch    20 Loss:   2.045752 Accuracy: 0.828125\n",
      "Epoch: 33 Batch    30 Loss:   4.172080 Accuracy: 0.843750\n",
      "Epoch: 33 Batch    40 Loss:   2.404776 Accuracy: 0.859375\n",
      "Epoch: 34 Batch     0 Loss:   2.030814 Accuracy: 0.843750\n",
      "Epoch: 34 Batch    10 Loss:   3.705229 Accuracy: 0.859375\n",
      "Epoch: 34 Batch    20 Loss:   3.934260 Accuracy: 0.812500\n",
      "Epoch: 34 Batch    30 Loss:   1.708835 Accuracy: 0.828125\n",
      "Epoch: 34 Batch    40 Loss:   4.062419 Accuracy: 0.875000\n",
      "Epoch: 35 Batch     0 Loss:   1.609948 Accuracy: 0.812500\n",
      "Epoch: 35 Batch    10 Loss:   3.717787 Accuracy: 0.906250\n",
      "Epoch: 35 Batch    20 Loss:   1.281302 Accuracy: 0.734375\n",
      "Epoch: 35 Batch    30 Loss:   2.215370 Accuracy: 0.859375\n",
      "Epoch: 35 Batch    40 Loss:   1.504858 Accuracy: 0.765625\n",
      "Epoch: 36 Batch     0 Loss:   2.018554 Accuracy: 0.875000\n",
      "Epoch: 36 Batch    10 Loss:   3.175459 Accuracy: 0.781250\n",
      "Epoch: 36 Batch    20 Loss:   3.254628 Accuracy: 0.875000\n",
      "Epoch: 36 Batch    30 Loss:   4.122266 Accuracy: 0.828125\n",
      "Epoch: 36 Batch    40 Loss:   2.779844 Accuracy: 0.812500\n",
      "Epoch: 37 Batch     0 Loss:   1.399366 Accuracy: 0.828125\n",
      "Epoch: 37 Batch    10 Loss:   5.083189 Accuracy: 0.843750\n",
      "Epoch: 37 Batch    20 Loss:   2.932385 Accuracy: 0.875000\n",
      "Epoch: 37 Batch    30 Loss:   3.074405 Accuracy: 0.890625\n",
      "Epoch: 37 Batch    40 Loss:   3.447885 Accuracy: 0.843750\n",
      "Epoch: 38 Batch     0 Loss:   2.318930 Accuracy: 0.890625\n",
      "Epoch: 38 Batch    10 Loss:   4.019017 Accuracy: 0.875000\n",
      "Epoch: 38 Batch    20 Loss:   1.003551 Accuracy: 0.921875\n",
      "Epoch: 38 Batch    30 Loss:   2.482217 Accuracy: 0.890625\n",
      "Epoch: 38 Batch    40 Loss:   3.544470 Accuracy: 0.859375\n",
      "Epoch: 39 Batch     0 Loss:   3.100397 Accuracy: 0.828125\n",
      "Epoch: 39 Batch    10 Loss:   2.115294 Accuracy: 0.796875\n",
      "Epoch: 39 Batch    20 Loss:   1.760047 Accuracy: 0.921875\n",
      "Epoch: 39 Batch    30 Loss:   1.964058 Accuracy: 0.843750\n",
      "Epoch: 39 Batch    40 Loss:   3.572105 Accuracy: 0.890625\n",
      "Epoch: 40 Batch     0 Loss:   2.719122 Accuracy: 0.828125\n",
      "Epoch: 40 Batch    10 Loss:   2.213827 Accuracy: 0.750000\n",
      "Epoch: 40 Batch    20 Loss:   2.078676 Accuracy: 0.828125\n",
      "Epoch: 40 Batch    30 Loss:   2.119213 Accuracy: 0.937500\n",
      "Epoch: 40 Batch    40 Loss:   2.262759 Accuracy: 0.875000\n",
      "Epoch: 41 Batch     0 Loss:   0.782518 Accuracy: 0.843750\n",
      "Epoch: 41 Batch    10 Loss:   3.188540 Accuracy: 0.843750\n",
      "Epoch: 41 Batch    20 Loss:   0.933806 Accuracy: 0.875000\n",
      "Epoch: 41 Batch    30 Loss:   1.103753 Accuracy: 0.875000\n",
      "Epoch: 41 Batch    40 Loss:   1.731814 Accuracy: 0.796875\n",
      "Epoch: 42 Batch     0 Loss:   3.991948 Accuracy: 0.906250\n",
      "Epoch: 42 Batch    10 Loss:   2.524659 Accuracy: 0.796875\n",
      "Epoch: 42 Batch    20 Loss:   1.367517 Accuracy: 0.812500\n",
      "Epoch: 42 Batch    30 Loss:   1.717370 Accuracy: 0.875000\n",
      "Epoch: 42 Batch    40 Loss:   3.725714 Accuracy: 0.921875\n",
      "Epoch: 43 Batch     0 Loss:   2.084236 Accuracy: 0.859375\n",
      "Epoch: 43 Batch    10 Loss:   6.522179 Accuracy: 0.781250\n",
      "Epoch: 43 Batch    20 Loss:   1.713294 Accuracy: 0.843750\n",
      "Epoch: 43 Batch    30 Loss:   3.806558 Accuracy: 0.921875\n",
      "Epoch: 43 Batch    40 Loss:   1.553101 Accuracy: 0.750000\n",
      "Epoch: 44 Batch     0 Loss:   3.179667 Accuracy: 0.875000\n",
      "Epoch: 44 Batch    10 Loss:   2.071414 Accuracy: 0.828125\n",
      "Epoch: 44 Batch    20 Loss:   2.660523 Accuracy: 0.828125\n",
      "Epoch: 44 Batch    30 Loss:   0.840831 Accuracy: 0.875000\n",
      "Epoch: 44 Batch    40 Loss:   2.422413 Accuracy: 0.843750\n",
      "Epoch: 45 Batch     0 Loss:   3.142241 Accuracy: 0.937500\n",
      "Epoch: 45 Batch    10 Loss:   2.637530 Accuracy: 0.890625\n",
      "Epoch: 45 Batch    20 Loss:   1.276029 Accuracy: 0.812500\n",
      "Epoch: 45 Batch    30 Loss:   1.690259 Accuracy: 0.875000\n",
      "Epoch: 45 Batch    40 Loss:   0.370277 Accuracy: 0.859375\n",
      "Epoch: 46 Batch     0 Loss:   2.127299 Accuracy: 0.875000\n",
      "Epoch: 46 Batch    10 Loss:   0.749458 Accuracy: 0.953125\n",
      "Epoch: 46 Batch    20 Loss:   2.389063 Accuracy: 0.968750\n",
      "Epoch: 46 Batch    30 Loss:   4.216559 Accuracy: 0.906250\n",
      "Epoch: 46 Batch    40 Loss:   3.934785 Accuracy: 0.812500\n",
      "Epoch: 47 Batch     0 Loss:   1.940241 Accuracy: 0.859375\n",
      "Epoch: 47 Batch    10 Loss:   1.690954 Accuracy: 0.875000\n",
      "Epoch: 47 Batch    20 Loss:   3.013106 Accuracy: 0.875000\n",
      "Epoch: 47 Batch    30 Loss:   4.110941 Accuracy: 0.859375\n",
      "Epoch: 47 Batch    40 Loss:   3.019032 Accuracy: 0.890625\n",
      "Epoch: 48 Batch     0 Loss:   1.807336 Accuracy: 0.843750\n",
      "Epoch: 48 Batch    10 Loss:   1.949849 Accuracy: 0.843750\n",
      "Epoch: 48 Batch    20 Loss:   1.237969 Accuracy: 0.859375\n",
      "Epoch: 48 Batch    30 Loss:   2.235541 Accuracy: 0.906250\n",
      "Epoch: 48 Batch    40 Loss:   2.788001 Accuracy: 0.843750\n",
      "Epoch: 49 Batch     0 Loss:   4.279388 Accuracy: 0.843750\n",
      "Epoch: 49 Batch    10 Loss:   2.893651 Accuracy: 0.875000\n",
      "Epoch: 49 Batch    20 Loss:   1.672709 Accuracy: 0.875000\n",
      "Epoch: 49 Batch    30 Loss:   1.511301 Accuracy: 0.843750\n",
      "Epoch: 49 Batch    40 Loss:   3.012922 Accuracy: 0.859375\n"
     ]
    }
   ],
   "source": [
    "init = tf.global_variables_initializer()\n",
    "with tf.Session() as sess:\n",
    "    sess.run(init)\n",
    "    for i in range(num_epochs):\n",
    "        for j in range(batch_num):\n",
    "            X_train_data = X_train[j*batch_size:(j+1)*batch_size,:,:,:]\n",
    "            y_train_data = y_train[j*batch_size:(j+1)*batch_size,:]\n",
    "            sess.run(optimizer,feed_dict={x:X_train_data,y:y_train_data})\n",
    "            if j % 10 ==0:  \n",
    "                _loss = sess.run(loss, feed_dict={x:X_train_data,y:y_train_data})\n",
    "                train_accuracy = sess.run(accuracy, feed_dict={x:X_train_data, y: y_train_data})\n",
    "                print('Epoch: {:>2} Batch {:>5} Loss: {:>10.6f} Accuracy: {:.6f}'.format(i, j, _loss, train_accuracy))"
   ]
  },
  {
   "cell_type": "code",
   "execution_count": 0,
   "metadata": {
    "colab": {},
    "colab_type": "code",
    "id": "6QhmiEZay4v4"
   },
   "outputs": [],
   "source": []
  },
  {
   "cell_type": "code",
   "execution_count": 0,
   "metadata": {
    "colab": {},
    "colab_type": "code",
    "id": "7Q7c2Tmrb7CY"
   },
   "outputs": [],
   "source": [
    "import gc\n",
    "del X\n",
    "gc.collect()"
   ]
  },
  {
   "cell_type": "code",
   "execution_count": 0,
   "metadata": {
    "colab": {},
    "colab_type": "code",
    "id": "NhhCKSiic0wZ"
   },
   "outputs": [],
   "source": [
    " test_file_path = [TEST_DIR+im for im in os.listdir(TEST_DIR)]"
   ]
  },
  {
   "cell_type": "code",
   "execution_count": 0,
   "metadata": {
    "colab": {},
    "colab_type": "code",
    "id": "idtZqNJafREg"
   },
   "outputs": [],
   "source": [
    "test_preds = np.zeros((12153,8))"
   ]
  },
  {
   "cell_type": "code",
   "execution_count": 0,
   "metadata": {
    "colab": {},
    "colab_type": "code",
    "id": "3Ujg-deCfZR-"
   },
   "outputs": [],
   "source": [
    "test = np.ndarray((100, 227, 227, 3))"
   ]
  },
  {
   "cell_type": "code",
   "execution_count": 0,
   "metadata": {
    "colab": {},
    "colab_type": "code",
    "id": "u3mQV3TTfmSj"
   },
   "outputs": [],
   "source": [
    "with tf.Session() as sess:\n",
    "    sess.run(init)\n",
    "    for i in range(121):\n",
    "      print(i)\n",
    "      for j in range(100):\n",
    "        test[j] = read_image(test_file_path[i*100+j])\n",
    "      t_pred = sess.run(tf.nn.softmax(fc3),feed_dict={x:test})\n",
    "      test_preds[i*100:(i+1)*100,:] = t_pred\n",
    "    for i in range(53):\n",
    "      test[j] = read_image(test_file_path[121*100+i])\n",
    "    t_pred = sess.run(tf.nn.softmax(fc3),feed_dict={x:test[0:53]})\n",
    "    test_preds[121*100:121*100+53,:] = t_pred"
   ]
  },
  {
   "cell_type": "code",
   "execution_count": 0,
   "metadata": {
    "colab": {},
    "colab_type": "code",
    "id": "6Ss5kaIwhcbc"
   },
   "outputs": [],
   "source": [
    "test_file_path1 = ['test_stg2/'+im for im in os.listdir(TEST_DIR)]"
   ]
  },
  {
   "cell_type": "code",
   "execution_count": 0,
   "metadata": {
    "colab": {},
    "colab_type": "code",
    "id": "TsWPaFGriWqn"
   },
   "outputs": [],
   "source": [
    "submission = pd.DataFrame(test_preds, columns=FISH_CLASSES)\n",
    "submission.insert(0, 'image', test_file_path1)\n",
    "submission.head()\n",
    "\n",
    "\n",
    "submission.to_csv('submisision2.csv',index=None)\n"
   ]
  },
  {
   "cell_type": "code",
   "execution_count": 0,
   "metadata": {
    "colab": {
     "base_uri": "https://localhost:8080/",
     "height": 195
    },
    "colab_type": "code",
    "id": "UtNA08qWijk8",
    "outputId": "2813685c-d2f1-49f0-c996-aa9d1b7272bc"
   },
   "outputs": [
    {
     "data": {
      "text/html": [
       "<div>\n",
       "<style scoped>\n",
       "    .dataframe tbody tr th:only-of-type {\n",
       "        vertical-align: middle;\n",
       "    }\n",
       "\n",
       "    .dataframe tbody tr th {\n",
       "        vertical-align: top;\n",
       "    }\n",
       "\n",
       "    .dataframe thead th {\n",
       "        text-align: right;\n",
       "    }\n",
       "</style>\n",
       "<table border=\"1\" class=\"dataframe\">\n",
       "  <thead>\n",
       "    <tr style=\"text-align: right;\">\n",
       "      <th></th>\n",
       "      <th>image</th>\n",
       "      <th>ALB</th>\n",
       "      <th>BET</th>\n",
       "      <th>DOL</th>\n",
       "      <th>LAG</th>\n",
       "      <th>NoF</th>\n",
       "      <th>OTHER</th>\n",
       "      <th>SHARK</th>\n",
       "      <th>YFT</th>\n",
       "    </tr>\n",
       "  </thead>\n",
       "  <tbody>\n",
       "    <tr>\n",
       "      <th>0</th>\n",
       "      <td>test_stg2/image_09747.jpg</td>\n",
       "      <td>9.440124e-36</td>\n",
       "      <td>1.000000e+00</td>\n",
       "      <td>2.653607e-26</td>\n",
       "      <td>5.955861e-27</td>\n",
       "      <td>6.568304e-30</td>\n",
       "      <td>2.043091e-19</td>\n",
       "      <td>3.372094e-38</td>\n",
       "      <td>6.370285e-12</td>\n",
       "    </tr>\n",
       "    <tr>\n",
       "      <th>1</th>\n",
       "      <td>test_stg2/image_04623.jpg</td>\n",
       "      <td>0.000000e+00</td>\n",
       "      <td>2.144653e-22</td>\n",
       "      <td>0.000000e+00</td>\n",
       "      <td>1.912081e-32</td>\n",
       "      <td>1.000000e+00</td>\n",
       "      <td>0.000000e+00</td>\n",
       "      <td>1.615676e-19</td>\n",
       "      <td>7.727690e-10</td>\n",
       "    </tr>\n",
       "    <tr>\n",
       "      <th>2</th>\n",
       "      <td>test_stg2/image_09181.jpg</td>\n",
       "      <td>2.972477e-05</td>\n",
       "      <td>1.920969e-36</td>\n",
       "      <td>2.324049e-10</td>\n",
       "      <td>0.000000e+00</td>\n",
       "      <td>3.381241e-31</td>\n",
       "      <td>0.000000e+00</td>\n",
       "      <td>1.474657e-36</td>\n",
       "      <td>9.999703e-01</td>\n",
       "    </tr>\n",
       "    <tr>\n",
       "      <th>3</th>\n",
       "      <td>test_stg2/image_07560.jpg</td>\n",
       "      <td>0.000000e+00</td>\n",
       "      <td>1.269314e-13</td>\n",
       "      <td>1.000000e+00</td>\n",
       "      <td>0.000000e+00</td>\n",
       "      <td>1.459537e-25</td>\n",
       "      <td>0.000000e+00</td>\n",
       "      <td>1.104047e-25</td>\n",
       "      <td>0.000000e+00</td>\n",
       "    </tr>\n",
       "    <tr>\n",
       "      <th>4</th>\n",
       "      <td>test_stg2/image_12085.jpg</td>\n",
       "      <td>0.000000e+00</td>\n",
       "      <td>1.359807e-37</td>\n",
       "      <td>1.203263e-12</td>\n",
       "      <td>0.000000e+00</td>\n",
       "      <td>1.000000e+00</td>\n",
       "      <td>0.000000e+00</td>\n",
       "      <td>0.000000e+00</td>\n",
       "      <td>0.000000e+00</td>\n",
       "    </tr>\n",
       "  </tbody>\n",
       "</table>\n",
       "</div>"
      ],
      "text/plain": [
       "                       image           ALB  ...         SHARK           YFT\n",
       "0  test_stg2/image_09747.jpg  9.440124e-36  ...  3.372094e-38  6.370285e-12\n",
       "1  test_stg2/image_04623.jpg  0.000000e+00  ...  1.615676e-19  7.727690e-10\n",
       "2  test_stg2/image_09181.jpg  2.972477e-05  ...  1.474657e-36  9.999703e-01\n",
       "3  test_stg2/image_07560.jpg  0.000000e+00  ...  1.104047e-25  0.000000e+00\n",
       "4  test_stg2/image_12085.jpg  0.000000e+00  ...  0.000000e+00  0.000000e+00\n",
       "\n",
       "[5 rows x 9 columns]"
      ]
     },
     "execution_count": 23,
     "metadata": {
      "tags": []
     },
     "output_type": "execute_result"
    }
   ],
   "source": [
    "submission.head()"
   ]
  },
  {
   "cell_type": "code",
   "execution_count": 0,
   "metadata": {
    "colab": {},
    "colab_type": "code",
    "id": "2s2cyXOcjBGF"
   },
   "outputs": [],
   "source": [
    "test_files = [im for im in os.listdir('/content/test_stg1')]\n",
    "test = np.ndarray((len(test_files), 227, 227, 3))\n",
    "for i, im in enumerate(test_files): \n",
    "    test[i] = read_image('/content/test_stg1/'+im)"
   ]
  },
  {
   "cell_type": "code",
   "execution_count": 0,
   "metadata": {
    "colab": {
     "base_uri": "https://localhost:8080/",
     "height": 185
    },
    "colab_type": "code",
    "id": "DGTxA4AKfKvT",
    "outputId": "b5f203dd-2ce6-4599-d727-7ab63b980e9e"
   },
   "outputs": [
    {
     "name": "stdout",
     "output_type": "stream",
     "text": [
      "0\n",
      "1\n",
      "2\n",
      "3\n",
      "4\n",
      "5\n",
      "6\n",
      "7\n",
      "8\n",
      "9\n"
     ]
    }
   ],
   "source": [
    "test_preds = np.zeros((1000,8))\n",
    "with tf.Session() as sess:\n",
    "    sess.run(init)\n",
    "    for i in range(10):\n",
    "        print(i)\n",
    "        t_pred = sess.run(tf.nn.softmax(fc3),feed_dict={x:test[i*100:(i+1)*100,:,:,:]})\n",
    "        test_preds[i*100:(i+1)*100,:] = t_pred\n",
    "\n",
    "\n",
    "\n",
    "submission = pd.DataFrame(test_preds, columns=FISH_CLASSES)\n",
    "submission.insert(0, 'image', test_files)\n",
    "submission.head()\n",
    "\n",
    "\n",
    "submission.to_csv('submisision1.csv',index=None)\n"
   ]
  },
  {
   "cell_type": "code",
   "execution_count": 0,
   "metadata": {
    "colab": {},
    "colab_type": "code",
    "id": "fibt_6zGswQx"
   },
   "outputs": [],
   "source": []
  }
 ],
 "metadata": {
  "accelerator": "GPU",
  "colab": {
   "name": "Fish_Classification.ipynb",
   "provenance": [],
   "version": "0.3.2"
  },
  "kernelspec": {
   "display_name": "Python 3",
   "language": "python",
   "name": "python3"
  },
  "language_info": {
   "codemirror_mode": {
    "name": "ipython",
    "version": 3
   },
   "file_extension": ".py",
   "mimetype": "text/x-python",
   "name": "python",
   "nbconvert_exporter": "python",
   "pygments_lexer": "ipython3",
   "version": "3.5.2"
  }
 },
 "nbformat": 4,
 "nbformat_minor": 1
}
