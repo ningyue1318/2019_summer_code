{
 "cells": [
  {
   "cell_type": "code",
   "execution_count": 1,
   "metadata": {},
   "outputs": [],
   "source": [
    "import numpy as np"
   ]
  },
  {
   "cell_type": "code",
   "execution_count": 2,
   "metadata": {},
   "outputs": [],
   "source": [
    "def loadSimpData():\n",
    "    dataMat = np.matrix([[1 ,2.1],\n",
    "                         [2 ,1.1],\n",
    "                         [1.3, 1],\n",
    "                         [1, 1],\n",
    "                         [2, 1]\n",
    "                        ])   \n",
    "    classLabels = [1.0, 1.0, -1.0, -1.0, 1.0]\n",
    "    return dataMat,classLabels"
   ]
  },
  {
   "cell_type": "code",
   "execution_count": 3,
   "metadata": {},
   "outputs": [],
   "source": [
    "dataMat,classLabels = loadSimpData()"
   ]
  },
  {
   "cell_type": "code",
   "execution_count": 13,
   "metadata": {},
   "outputs": [],
   "source": [
    "def stumpClassify(dataMatrix,dimen,threshVal,threshIneq):\n",
    "    retArray = np.ones((np.shape(dataMatrix)[0],1))\n",
    "    if threshIneq =='lt':\n",
    "        retArray[dataMatrix[:,dimen]<=threshVal] = -1.0\n",
    "    else:\n",
    "        retArray[dataMatrix[:,dimen]>=threshVal] = -1.0\n",
    "    return retArray"
   ]
  },
  {
   "cell_type": "code",
   "execution_count": 14,
   "metadata": {},
   "outputs": [],
   "source": [
    "def buildStump(dataArr, classLabels, D):\n",
    "    dataMatrix = np.mat(dataArr)\n",
    "    labelMat = np.mat(classLabels).T\n",
    "    m,n = np.shape(dataMatrix)\n",
    "    numstep = 10\n",
    "    bestStump = {}\n",
    "    bestClassEst = np.mat(np.zeros((m,1)))\n",
    "    minError = np.inf\n",
    "    for i in range(n):\n",
    "        rangeMin = dataMatrix[:,i].min()\n",
    "        rangeMax = dataMatrix[:,i].max()\n",
    "        stepSize = (rangeMax - rangeMin)/numstep\n",
    "        for j in range(-1,int(numstep)+1):\n",
    "            for inequal in ['lt','gt']:\n",
    "                threshVal = (rangeMin+float(j)*stepSize)\n",
    "                predictedVals = stumpClassify(dataMatrix,i,threshVal,inequal)\n",
    "                errArr = np.mat(np.ones((m,1)))\n",
    "                errArr[predictedVals == labelMat] = 0\n",
    "                weightedError = D.T*errArr\n",
    "                print(\"split:dim%d,thresh %.2f,thresh ineqal:%s the weighted error is %.3f\"%(1,threshVal,inequal,weightedError))\n",
    "                if weightedError<minError:\n",
    "                    minError = weightedError\n",
    "                    bestClassEst = predictedVals.copy()\n",
    "                    bestStump['dim'] = i\n",
    "                    bestStump['thresh'] = threshVal\n",
    "                    bestStump['ineq'] = inequal\n",
    "    return bestStump,minError,bestClassEst"
   ]
  },
  {
   "cell_type": "code",
   "execution_count": 17,
   "metadata": {},
   "outputs": [],
   "source": [
    "def adaBoostTrainDS(dataArr,classLabels,numIt=40):\n",
    "    weakClassArr = []\n",
    "    m = np.shape(dataArr)[0]\n",
    "    D = np.mat(np.ones((m,1))/m)\n",
    "    aggClassEst = np.mat(np.zeros((m,1)))\n",
    "    for i in range(numIt):\n",
    "        bestStump,error,classEst = buildStump(dataArr,classLabels,D)\n",
    "        print(\"D:\",D.T)\n",
    "        alpha = float(0.5*np.log((1-error)/max(error,1e-16)))\n",
    "        bestStump['alpha'] = alpha\n",
    "        weakClassArr.append(bestStump)\n",
    "        print(\"classEst:\",classEst.T)\n",
    "        expon = np.multiply(-1*alpha*np.mat(classLabels).T,classEst)\n",
    "        D = np.multiply(D,np.exp(expon))\n",
    "        D = D/D.sum()\n",
    "        aggClassEst += alpha*classEst\n",
    "        print(\"aggClassEst:\",aggClassEst.T)\n",
    "        aggErrors = np.multiply(np.sign(aggClassEst)!=np.mat(classLabels).T,np.ones((m,1)))\n",
    "        errorRate = aggErrors.sum()/m\n",
    "        print(\"total error:\",errorRate,\"\\n\")\n",
    "        if errorRate == 0:\n",
    "            break\n",
    "    return weakClassArr"
   ]
  },
  {
   "cell_type": "code",
   "execution_count": 18,
   "metadata": {},
   "outputs": [
    {
     "name": "stdout",
     "output_type": "stream",
     "text": [
      "split:dim1,thresh 0.90,thresh ineqal:lt the weighted error is 0.400\n",
      "split:dim1,thresh 0.90,thresh ineqal:gt the weighted error is 0.600\n",
      "split:dim1,thresh 1.00,thresh ineqal:lt the weighted error is 0.400\n",
      "split:dim1,thresh 1.00,thresh ineqal:gt the weighted error is 0.600\n",
      "split:dim1,thresh 1.10,thresh ineqal:lt the weighted error is 0.400\n",
      "split:dim1,thresh 1.10,thresh ineqal:gt the weighted error is 0.600\n",
      "split:dim1,thresh 1.20,thresh ineqal:lt the weighted error is 0.400\n",
      "split:dim1,thresh 1.20,thresh ineqal:gt the weighted error is 0.600\n",
      "split:dim1,thresh 1.30,thresh ineqal:lt the weighted error is 0.200\n",
      "split:dim1,thresh 1.30,thresh ineqal:gt the weighted error is 0.600\n",
      "split:dim1,thresh 1.40,thresh ineqal:lt the weighted error is 0.200\n",
      "split:dim1,thresh 1.40,thresh ineqal:gt the weighted error is 0.800\n",
      "split:dim1,thresh 1.50,thresh ineqal:lt the weighted error is 0.200\n",
      "split:dim1,thresh 1.50,thresh ineqal:gt the weighted error is 0.800\n",
      "split:dim1,thresh 1.60,thresh ineqal:lt the weighted error is 0.200\n",
      "split:dim1,thresh 1.60,thresh ineqal:gt the weighted error is 0.800\n",
      "split:dim1,thresh 1.70,thresh ineqal:lt the weighted error is 0.200\n",
      "split:dim1,thresh 1.70,thresh ineqal:gt the weighted error is 0.800\n",
      "split:dim1,thresh 1.80,thresh ineqal:lt the weighted error is 0.200\n",
      "split:dim1,thresh 1.80,thresh ineqal:gt the weighted error is 0.800\n",
      "split:dim1,thresh 1.90,thresh ineqal:lt the weighted error is 0.200\n",
      "split:dim1,thresh 1.90,thresh ineqal:gt the weighted error is 0.800\n",
      "split:dim1,thresh 2.00,thresh ineqal:lt the weighted error is 0.600\n",
      "split:dim1,thresh 2.00,thresh ineqal:gt the weighted error is 0.800\n",
      "split:dim1,thresh 0.89,thresh ineqal:lt the weighted error is 0.400\n",
      "split:dim1,thresh 0.89,thresh ineqal:gt the weighted error is 0.600\n",
      "split:dim1,thresh 1.00,thresh ineqal:lt the weighted error is 0.200\n",
      "split:dim1,thresh 1.00,thresh ineqal:gt the weighted error is 0.600\n",
      "split:dim1,thresh 1.11,thresh ineqal:lt the weighted error is 0.400\n",
      "split:dim1,thresh 1.11,thresh ineqal:gt the weighted error is 0.600\n",
      "split:dim1,thresh 1.22,thresh ineqal:lt the weighted error is 0.400\n",
      "split:dim1,thresh 1.22,thresh ineqal:gt the weighted error is 0.600\n",
      "split:dim1,thresh 1.33,thresh ineqal:lt the weighted error is 0.400\n",
      "split:dim1,thresh 1.33,thresh ineqal:gt the weighted error is 0.600\n",
      "split:dim1,thresh 1.44,thresh ineqal:lt the weighted error is 0.400\n",
      "split:dim1,thresh 1.44,thresh ineqal:gt the weighted error is 0.600\n",
      "split:dim1,thresh 1.55,thresh ineqal:lt the weighted error is 0.400\n",
      "split:dim1,thresh 1.55,thresh ineqal:gt the weighted error is 0.600\n",
      "split:dim1,thresh 1.66,thresh ineqal:lt the weighted error is 0.400\n",
      "split:dim1,thresh 1.66,thresh ineqal:gt the weighted error is 0.600\n",
      "split:dim1,thresh 1.77,thresh ineqal:lt the weighted error is 0.400\n",
      "split:dim1,thresh 1.77,thresh ineqal:gt the weighted error is 0.600\n",
      "split:dim1,thresh 1.88,thresh ineqal:lt the weighted error is 0.400\n",
      "split:dim1,thresh 1.88,thresh ineqal:gt the weighted error is 0.600\n",
      "split:dim1,thresh 1.99,thresh ineqal:lt the weighted error is 0.400\n",
      "split:dim1,thresh 1.99,thresh ineqal:gt the weighted error is 0.600\n",
      "split:dim1,thresh 2.10,thresh ineqal:lt the weighted error is 0.600\n",
      "split:dim1,thresh 2.10,thresh ineqal:gt the weighted error is 0.600\n",
      "D: [[0.2 0.2 0.2 0.2 0.2]]\n",
      "classEst: [[-1.  1. -1. -1.  1.]]\n",
      "aggClassEst: [[-0.69314718  0.69314718 -0.69314718 -0.69314718  0.69314718]]\n",
      "total error: 0.2 \n",
      "\n",
      "split:dim1,thresh 0.90,thresh ineqal:lt the weighted error is 0.250\n",
      "split:dim1,thresh 0.90,thresh ineqal:gt the weighted error is 0.750\n",
      "split:dim1,thresh 1.00,thresh ineqal:lt the weighted error is 0.625\n",
      "split:dim1,thresh 1.00,thresh ineqal:gt the weighted error is 0.750\n",
      "split:dim1,thresh 1.10,thresh ineqal:lt the weighted error is 0.625\n",
      "split:dim1,thresh 1.10,thresh ineqal:gt the weighted error is 0.375\n",
      "split:dim1,thresh 1.20,thresh ineqal:lt the weighted error is 0.625\n",
      "split:dim1,thresh 1.20,thresh ineqal:gt the weighted error is 0.375\n",
      "split:dim1,thresh 1.30,thresh ineqal:lt the weighted error is 0.500\n",
      "split:dim1,thresh 1.30,thresh ineqal:gt the weighted error is 0.375\n",
      "split:dim1,thresh 1.40,thresh ineqal:lt the weighted error is 0.500\n",
      "split:dim1,thresh 1.40,thresh ineqal:gt the weighted error is 0.500\n",
      "split:dim1,thresh 1.50,thresh ineqal:lt the weighted error is 0.500\n",
      "split:dim1,thresh 1.50,thresh ineqal:gt the weighted error is 0.500\n",
      "split:dim1,thresh 1.60,thresh ineqal:lt the weighted error is 0.500\n",
      "split:dim1,thresh 1.60,thresh ineqal:gt the weighted error is 0.500\n",
      "split:dim1,thresh 1.70,thresh ineqal:lt the weighted error is 0.500\n",
      "split:dim1,thresh 1.70,thresh ineqal:gt the weighted error is 0.500\n",
      "split:dim1,thresh 1.80,thresh ineqal:lt the weighted error is 0.500\n",
      "split:dim1,thresh 1.80,thresh ineqal:gt the weighted error is 0.500\n",
      "split:dim1,thresh 1.90,thresh ineqal:lt the weighted error is 0.500\n",
      "split:dim1,thresh 1.90,thresh ineqal:gt the weighted error is 0.500\n",
      "split:dim1,thresh 2.00,thresh ineqal:lt the weighted error is 0.750\n",
      "split:dim1,thresh 2.00,thresh ineqal:gt the weighted error is 0.500\n",
      "split:dim1,thresh 0.89,thresh ineqal:lt the weighted error is 0.250\n",
      "split:dim1,thresh 0.89,thresh ineqal:gt the weighted error is 0.750\n",
      "split:dim1,thresh 1.00,thresh ineqal:lt the weighted error is 0.125\n",
      "split:dim1,thresh 1.00,thresh ineqal:gt the weighted error is 0.750\n",
      "split:dim1,thresh 1.11,thresh ineqal:lt the weighted error is 0.250\n",
      "split:dim1,thresh 1.11,thresh ineqal:gt the weighted error is 0.750\n",
      "split:dim1,thresh 1.22,thresh ineqal:lt the weighted error is 0.250\n",
      "split:dim1,thresh 1.22,thresh ineqal:gt the weighted error is 0.750\n",
      "split:dim1,thresh 1.33,thresh ineqal:lt the weighted error is 0.250\n",
      "split:dim1,thresh 1.33,thresh ineqal:gt the weighted error is 0.750\n",
      "split:dim1,thresh 1.44,thresh ineqal:lt the weighted error is 0.250\n",
      "split:dim1,thresh 1.44,thresh ineqal:gt the weighted error is 0.750\n",
      "split:dim1,thresh 1.55,thresh ineqal:lt the weighted error is 0.250\n",
      "split:dim1,thresh 1.55,thresh ineqal:gt the weighted error is 0.750\n",
      "split:dim1,thresh 1.66,thresh ineqal:lt the weighted error is 0.250\n",
      "split:dim1,thresh 1.66,thresh ineqal:gt the weighted error is 0.750\n",
      "split:dim1,thresh 1.77,thresh ineqal:lt the weighted error is 0.250\n",
      "split:dim1,thresh 1.77,thresh ineqal:gt the weighted error is 0.750\n",
      "split:dim1,thresh 1.88,thresh ineqal:lt the weighted error is 0.250\n",
      "split:dim1,thresh 1.88,thresh ineqal:gt the weighted error is 0.750\n",
      "split:dim1,thresh 1.99,thresh ineqal:lt the weighted error is 0.250\n",
      "split:dim1,thresh 1.99,thresh ineqal:gt the weighted error is 0.750\n",
      "split:dim1,thresh 2.10,thresh ineqal:lt the weighted error is 0.750\n",
      "split:dim1,thresh 2.10,thresh ineqal:gt the weighted error is 0.750\n",
      "D: [[0.5   0.125 0.125 0.125 0.125]]\n",
      "classEst: [[ 1.  1. -1. -1. -1.]]\n",
      "aggClassEst: [[ 0.27980789  1.66610226 -1.66610226 -1.66610226 -0.27980789]]\n",
      "total error: 0.2 \n",
      "\n",
      "split:dim1,thresh 0.90,thresh ineqal:lt the weighted error is 0.143\n",
      "split:dim1,thresh 0.90,thresh ineqal:gt the weighted error is 0.857\n",
      "split:dim1,thresh 1.00,thresh ineqal:lt the weighted error is 0.357\n",
      "split:dim1,thresh 1.00,thresh ineqal:gt the weighted error is 0.857\n",
      "split:dim1,thresh 1.10,thresh ineqal:lt the weighted error is 0.357\n",
      "split:dim1,thresh 1.10,thresh ineqal:gt the weighted error is 0.643\n",
      "split:dim1,thresh 1.20,thresh ineqal:lt the weighted error is 0.357\n",
      "split:dim1,thresh 1.20,thresh ineqal:gt the weighted error is 0.643\n",
      "split:dim1,thresh 1.30,thresh ineqal:lt the weighted error is 0.286\n",
      "split:dim1,thresh 1.30,thresh ineqal:gt the weighted error is 0.643\n",
      "split:dim1,thresh 1.40,thresh ineqal:lt the weighted error is 0.286\n",
      "split:dim1,thresh 1.40,thresh ineqal:gt the weighted error is 0.714\n",
      "split:dim1,thresh 1.50,thresh ineqal:lt the weighted error is 0.286\n",
      "split:dim1,thresh 1.50,thresh ineqal:gt the weighted error is 0.714\n",
      "split:dim1,thresh 1.60,thresh ineqal:lt the weighted error is 0.286\n",
      "split:dim1,thresh 1.60,thresh ineqal:gt the weighted error is 0.714\n",
      "split:dim1,thresh 1.70,thresh ineqal:lt the weighted error is 0.286\n",
      "split:dim1,thresh 1.70,thresh ineqal:gt the weighted error is 0.714\n",
      "split:dim1,thresh 1.80,thresh ineqal:lt the weighted error is 0.286\n",
      "split:dim1,thresh 1.80,thresh ineqal:gt the weighted error is 0.714\n",
      "split:dim1,thresh 1.90,thresh ineqal:lt the weighted error is 0.286\n",
      "split:dim1,thresh 1.90,thresh ineqal:gt the weighted error is 0.714\n",
      "split:dim1,thresh 2.00,thresh ineqal:lt the weighted error is 0.857\n",
      "split:dim1,thresh 2.00,thresh ineqal:gt the weighted error is 0.714\n",
      "split:dim1,thresh 0.89,thresh ineqal:lt the weighted error is 0.143\n",
      "split:dim1,thresh 0.89,thresh ineqal:gt the weighted error is 0.857\n",
      "split:dim1,thresh 1.00,thresh ineqal:lt the weighted error is 0.500\n",
      "split:dim1,thresh 1.00,thresh ineqal:gt the weighted error is 0.857\n",
      "split:dim1,thresh 1.11,thresh ineqal:lt the weighted error is 0.571\n",
      "split:dim1,thresh 1.11,thresh ineqal:gt the weighted error is 0.429\n",
      "split:dim1,thresh 1.22,thresh ineqal:lt the weighted error is 0.571\n",
      "split:dim1,thresh 1.22,thresh ineqal:gt the weighted error is 0.429\n",
      "split:dim1,thresh 1.33,thresh ineqal:lt the weighted error is 0.571\n",
      "split:dim1,thresh 1.33,thresh ineqal:gt the weighted error is 0.429\n",
      "split:dim1,thresh 1.44,thresh ineqal:lt the weighted error is 0.571\n",
      "split:dim1,thresh 1.44,thresh ineqal:gt the weighted error is 0.429\n",
      "split:dim1,thresh 1.55,thresh ineqal:lt the weighted error is 0.571\n",
      "split:dim1,thresh 1.55,thresh ineqal:gt the weighted error is 0.429\n",
      "split:dim1,thresh 1.66,thresh ineqal:lt the weighted error is 0.571\n",
      "split:dim1,thresh 1.66,thresh ineqal:gt the weighted error is 0.429\n",
      "split:dim1,thresh 1.77,thresh ineqal:lt the weighted error is 0.571\n",
      "split:dim1,thresh 1.77,thresh ineqal:gt the weighted error is 0.429\n",
      "split:dim1,thresh 1.88,thresh ineqal:lt the weighted error is 0.571\n",
      "split:dim1,thresh 1.88,thresh ineqal:gt the weighted error is 0.429\n",
      "split:dim1,thresh 1.99,thresh ineqal:lt the weighted error is 0.571\n",
      "split:dim1,thresh 1.99,thresh ineqal:gt the weighted error is 0.429\n",
      "split:dim1,thresh 2.10,thresh ineqal:lt the weighted error is 0.857\n",
      "split:dim1,thresh 2.10,thresh ineqal:gt the weighted error is 0.429\n",
      "D: [[0.28571429 0.07142857 0.07142857 0.07142857 0.5       ]]\n",
      "classEst: [[1. 1. 1. 1. 1.]]\n",
      "aggClassEst: [[ 1.17568763  2.56198199 -0.77022252 -0.77022252  0.61607184]]\n",
      "total error: 0.0 \n",
      "\n"
     ]
    }
   ],
   "source": [
    "classifierArray =adaBoostTrainDS(dataMat,classLabels,9)"
   ]
  },
  {
   "cell_type": "code",
   "execution_count": 19,
   "metadata": {},
   "outputs": [
    {
     "data": {
      "text/plain": [
       "[{'alpha': 0.6931471805599453, 'dim': 0, 'ineq': 'lt', 'thresh': 1.3},\n",
       " {'alpha': 0.9729550745276565, 'dim': 1, 'ineq': 'lt', 'thresh': 1.0},\n",
       " {'alpha': 0.8958797346140273, 'dim': 0, 'ineq': 'lt', 'thresh': 0.9}]"
      ]
     },
     "execution_count": 19,
     "metadata": {},
     "output_type": "execute_result"
    }
   ],
   "source": [
    "classifierArray"
   ]
  },
  {
   "cell_type": "code",
   "execution_count": 20,
   "metadata": {},
   "outputs": [],
   "source": [
    "def adaClassify(datToClass,classifierArray):\n",
    "    dataMatrix = np.mat(datToClass)\n",
    "    m = np.shape(dataMatrix)[0]\n",
    "    aggClassEst = np.mat(np.zeros((m,1)))\n",
    "    for i in range(len(classifierArray)):\n",
    "        classEst = stumpClassify(dataMatrix,classifierArray[i]['dim'],\n",
    "                                classifierArray[i]['thresh'],\n",
    "                                classifierArray[i]['ineq'])\n",
    "        aggClassEst += classifierArray[i]['alpha']*classEst\n",
    "        print(aggClassEst)\n",
    "    return np.sign(aggClassEst)"
   ]
  },
  {
   "cell_type": "code",
   "execution_count": 21,
   "metadata": {},
   "outputs": [
    {
     "name": "stdout",
     "output_type": "stream",
     "text": [
      "[[-0.69314718]]\n",
      "[[-1.66610226]]\n",
      "[[-2.56198199]]\n"
     ]
    },
    {
     "data": {
      "text/plain": [
       "matrix([[-1.]])"
      ]
     },
     "execution_count": 21,
     "metadata": {},
     "output_type": "execute_result"
    }
   ],
   "source": [
    "adaClassify([0,0],classifierArray)"
   ]
  },
  {
   "cell_type": "code",
   "execution_count": null,
   "metadata": {},
   "outputs": [],
   "source": []
  }
 ],
 "metadata": {
  "kernelspec": {
   "display_name": "Python 3",
   "language": "python",
   "name": "python3"
  },
  "language_info": {
   "codemirror_mode": {
    "name": "ipython",
    "version": 3
   },
   "file_extension": ".py",
   "mimetype": "text/x-python",
   "name": "python",
   "nbconvert_exporter": "python",
   "pygments_lexer": "ipython3",
   "version": "3.5.2"
  }
 },
 "nbformat": 4,
 "nbformat_minor": 2
}
