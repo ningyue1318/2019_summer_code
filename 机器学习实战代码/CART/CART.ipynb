{
 "cells": [
  {
   "cell_type": "code",
   "execution_count": 1,
   "metadata": {},
   "outputs": [],
   "source": [
    "import numpy as np"
   ]
  },
  {
   "cell_type": "code",
   "execution_count": 2,
   "metadata": {},
   "outputs": [],
   "source": [
    "def loadDataSet(filename):\n",
    "    dataMat = []\n",
    "    fr = open(filename)\n",
    "    for line in fr.readlines():\n",
    "        curLine = line.strip().split('\\t')\n",
    "        fltLine = list(map(float,curLine))\n",
    "        dataMat.append(fltLine)\n",
    "    return dataMat"
   ]
  },
  {
   "cell_type": "code",
   "execution_count": 3,
   "metadata": {},
   "outputs": [],
   "source": [
    "class treeNode():\n",
    "    def __init__(self,feat,right,left):\n",
    "        featureToSplit = feat  #待切分的特征\n",
    "        valueOfSplit = val  #待切分的特征值\n",
    "        rightBranch = right  #右子树\n",
    "        leftBranch = left  #左子树"
   ]
  },
  {
   "cell_type": "code",
   "execution_count": 4,
   "metadata": {},
   "outputs": [],
   "source": [
    "#将数据集按特征值进行切分\n",
    "def binSplitDataSet(dataSet,feature,value):\n",
    "    mat0 = dataSet[np.nonzero(dataSet[:,feature]>value)[0],:]\n",
    "    mat1 = dataSet[np.nonzero(dataSet[:,feature]<=value)[0],:]\n",
    "    return mat0,mat1"
   ]
  },
  {
   "cell_type": "code",
   "execution_count": 5,
   "metadata": {},
   "outputs": [],
   "source": [
    "# 计算列的均值\n",
    "def regLeaf(datSet):\n",
    "    return np.mean(datSet[:,-1])"
   ]
  },
  {
   "cell_type": "code",
   "execution_count": 6,
   "metadata": {},
   "outputs": [],
   "source": [
    "def regErr(dataSet):\n",
    "    return np.var(dataSet[:,-1])*np.shape(dataSet)[0]"
   ]
  },
  {
   "cell_type": "code",
   "execution_count": 7,
   "metadata": {},
   "outputs": [],
   "source": [
    "def chooseBestSplit(dataSet,leafType=regLeaf,errType=regErr,ops=(1,4)):\n",
    "    tolS = ops[0]\n",
    "    tolN = ops[1]\n",
    "    print()\n",
    "    if len(set(dataSet[:,-1].T.tolist()[0])) == 1:\n",
    "        return None,leafType(dataSet)\n",
    "    m,n = np.shape(dataSet)\n",
    "    S = errType(dataSet)\n",
    "    bestS = np.inf;\n",
    "    bestIndex = 0\n",
    "    bestValue = 0\n",
    "    for featIndex in range(n-1):\n",
    "        for splitVal in set(dataSet[:,featIndex].T.tolist()[0]):\n",
    "            mat0,mat1 = binSplitDataSet(dataSet,featIndex,splitVal)\n",
    "            if(np.shape(mat0)[0]<tolN) or (np.shape(mat1)[0]<tolN):\n",
    "                continue\n",
    "            newS = errType(mat0)+errType(mat1)\n",
    "            if newS <bestS:\n",
    "                bestIndex = featIndex\n",
    "                bestValue = splitVal\n",
    "                bestS = newS\n",
    "    if(S-bestS)<tolS:\n",
    "        return None,leafType(dataSet)\n",
    "    mat0,mat1 = binSplitDataSet(dataSet,bestIndex,bestValue)\n",
    "    if(np.shape(mat0)[0]<tolN or np.shape(mat1)[0]<tolN):\n",
    "        return None,leafType(dataSet)\n",
    "    return bestIndex,bestValue"
   ]
  },
  {
   "cell_type": "code",
   "execution_count": 8,
   "metadata": {},
   "outputs": [],
   "source": [
    "def createTree(dataSet,leafType=regLeaf,errType=regErr,ops=(1,4)):\n",
    "    feat,val = chooseBestSplit(dataSet,leafType,errType,ops)\n",
    "    if feat == None:\n",
    "        return val\n",
    "    retTree = {}\n",
    "    retTree['spInd'] = feat\n",
    "    retTree['spVal'] = val\n",
    "    lSet,rSet = binSplitDataSet(dataSet,feat,val)\n",
    "    retTree['left'] = createTree(lSet,leafType,errType,ops)\n",
    "    retTree['right'] = createTree(rSet,leafType,errType,ops)\n",
    "    return retTree"
   ]
  },
  {
   "cell_type": "code",
   "execution_count": 9,
   "metadata": {},
   "outputs": [
    {
     "name": "stdout",
     "output_type": "stream",
     "text": [
      "\n",
      "\n",
      "\n"
     ]
    },
    {
     "data": {
      "text/plain": [
       "{'left': 1.0180967672413792,\n",
       " 'right': -0.04465028571428572,\n",
       " 'spInd': 0,\n",
       " 'spVal': 0.48813}"
      ]
     },
     "execution_count": 9,
     "metadata": {},
     "output_type": "execute_result"
    }
   ],
   "source": [
    "myDat = loadDataSet(\"ex00.txt\")\n",
    "myDat = np.mat(myDat)\n",
    "createTree(myDat)"
   ]
  },
  {
   "cell_type": "code",
   "execution_count": 10,
   "metadata": {},
   "outputs": [],
   "source": [
    "import matplotlib.pyplot as plt"
   ]
  },
  {
   "cell_type": "code",
   "execution_count": 30,
   "metadata": {},
   "outputs": [
    {
     "data": {
      "text/plain": [
       "(200,)"
      ]
     },
     "execution_count": 30,
     "metadata": {},
     "output_type": "execute_result"
    }
   ],
   "source": [
    "np.array(myDat[:,0]).ravel()"
   ]
  },
  {
   "cell_type": "code",
   "execution_count": 31,
   "metadata": {},
   "outputs": [
    {
     "data": {
      "image/png": "[encoded data removed]",
      "text/plain": [
       "<Figure size 432x288 with 1 Axes>"
      ]
     },
     "metadata": {
      "needs_background": "light"
     },
     "output_type": "display_data"
    }
   ],
   "source": [
    "plt.scatter(np.array(myDat[:,0]).ravel().T,np.array(myDat[:,1]).ravel())\n",
    "plt.show()"
   ]
  },
  {
   "cell_type": "code",
   "execution_count": null,
   "metadata": {},
   "outputs": [],
   "source": []
  }
 ],
 "metadata": {
  "kernelspec": {
   "display_name": "Python 3",
   "language": "python",
   "name": "python3"
  },
  "language_info": {
   "codemirror_mode": {
    "name": "ipython",
    "version": 3
   },
   "file_extension": ".py",
   "mimetype": "text/x-python",
   "name": "python",
   "nbconvert_exporter": "python",
   "pygments_lexer": "ipython3",
   "version": "3.5.2"
  }
 },
 "nbformat": 4,
 "nbformat_minor": 2
}
