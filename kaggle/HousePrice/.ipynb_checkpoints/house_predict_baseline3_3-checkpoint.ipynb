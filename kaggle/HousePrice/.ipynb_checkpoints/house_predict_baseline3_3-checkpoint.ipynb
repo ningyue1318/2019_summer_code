{
 "cells": [
  {
   "cell_type": "code",
   "execution_count": 151,
   "metadata": {},
   "outputs": [
    {
     "name": "stdout",
     "output_type": "stream",
     "text": [
      "Using matplotlib backend: TkAgg\n"
     ]
    }
   ],
   "source": [
    "import pandas as pd\n",
    "import matplotlib.pyplot as plt\n",
    "import seaborn as sns\n",
    "import numpy as np\n",
    "from scipy.stats import norm\n",
    "from sklearn.preprocessing import StandardScaler\n",
    "from scipy import stats\n",
    "import warnings\n",
    "from scipy.stats import norm, skew #for some statistics\n",
    "warnings.filterwarnings('ignore')\n",
    "%matplotlib"
   ]
  },
  {
   "cell_type": "code",
   "execution_count": 152,
   "metadata": {},
   "outputs": [],
   "source": [
    "# 加载训练集和测试集的数据\n",
    "train = pd.read_csv('data/train.csv')\n",
    "test = pd.read_csv('data/test.csv')"
   ]
  },
  {
   "cell_type": "code",
   "execution_count": 153,
   "metadata": {},
   "outputs": [],
   "source": [
    "train.drop(train[(train.GrLivArea>4000)&(train.SalePrice<300000)].index, inplace=True)"
   ]
  },
  {
   "cell_type": "code",
   "execution_count": 154,
   "metadata": {},
   "outputs": [],
   "source": [
    "train.drop(train[(train.TotalBsmtSF>3000)&(train.SalePrice<300000)].index, inplace=True)"
   ]
  },
  {
   "cell_type": "code",
   "execution_count": 155,
   "metadata": {},
   "outputs": [],
   "source": [
    "# 拼接训练集和测试集数据，并删除Id,SalePrice\n",
    "full = pd.concat([train,test],ignore_index=True)\n",
    "full.drop(['Id','SalePrice'],axis=1,inplace=True)"
   ]
  },
  {
   "cell_type": "code",
   "execution_count": 156,
   "metadata": {},
   "outputs": [],
   "source": [
    "full['LotFrontage'] = np.sqrt(full['LotArea'])"
   ]
  },
  {
   "cell_type": "code",
   "execution_count": 157,
   "metadata": {},
   "outputs": [],
   "source": [
    "cols = [\"PoolQC\",\"MiscFeature\",\"Alley\",\"Fence\",\"FireplaceQu\"]\n",
    "for col in cols:\n",
    "    full[col].fillna('None',inplace=True)\n",
    "\n",
    "for col in ('GarageType', 'GarageFinish', 'GarageQual', 'GarageCond'):\n",
    "    full[col].fillna('None',inplace=True)\n",
    "\n",
    "for col in ('GarageYrBlt', 'GarageArea', 'GarageCars'):\n",
    "    full[col].fillna(0,inplace=True)\n",
    "    \n",
    "for col in ('BsmtFinSF1', 'BsmtFinSF2', 'BsmtUnfSF','TotalBsmtSF', 'BsmtFullBath', 'BsmtHalfBath'):\n",
    "    full[col].fillna(0,inplace=True)\n",
    "    \n",
    "for col in ('BsmtQual', 'BsmtCond', 'BsmtExposure', 'BsmtFinType1', 'BsmtFinType2'):\n",
    "    full[col].fillna('None',inplace=True)\n",
    "\n",
    "full[\"MasVnrType\"].fillna(\"None\",inplace=True)\n",
    "full[\"MasVnrArea\"].fillna(0,inplace=True)\n",
    "full['MSZoning'].fillna(full['MSZoning'].mode()[0],inplace=True)\n",
    "full.drop(['Utilities'], axis=1,inplace=True)\n",
    "full[\"Functional\"].fillna(\"Typ\",inplace=True)\n",
    "full['Electrical'].fillna(full['Electrical'].mode()[0],inplace=True)\n",
    "full['KitchenQual'].fillna(full['KitchenQual'].mode()[0],inplace=True)\n",
    "full['Exterior1st'].fillna(full['Exterior1st'].mode()[0],inplace=True)\n",
    "full['Exterior2nd'].fillna(full['Exterior2nd'].mode()[0],inplace=True)\n",
    "full['SaleType'].fillna(full['SaleType'].mode()[0],inplace=True)\n",
    "full['MSSubClass'].fillna(\"None\",inplace=True)"
   ]
  },
  {
   "cell_type": "code",
   "execution_count": 158,
   "metadata": {},
   "outputs": [],
   "source": [
    "from sklearn.preprocessing import LabelEncoder"
   ]
  },
  {
   "cell_type": "code",
   "execution_count": 159,
   "metadata": {},
   "outputs": [],
   "source": [
    "full['YearBuilt'] = LabelEncoder().fit_transform(full.YearBuilt)"
   ]
  },
  {
   "cell_type": "code",
   "execution_count": 160,
   "metadata": {},
   "outputs": [],
   "source": [
    "# 增加新的特征，与SalePrice有较高的关系\n",
    "full['TotalSF'] = full['TotalBsmtSF'] + full['1stFlrSF'] +full['2ndFlrSF']"
   ]
  },
  {
   "cell_type": "code",
   "execution_count": 161,
   "metadata": {},
   "outputs": [],
   "source": [
    "full['YrBltAndRemod'] = full['YearBuilt'] + full['YearRemodAdd']"
   ]
  },
  {
   "cell_type": "code",
   "execution_count": 162,
   "metadata": {},
   "outputs": [],
   "source": [
    "full['Total_sqr_footage'] = full['BsmtFinSF1']+full['BsmtFinSF2']+full['1stFlrSF']+full['2ndFlrSF']"
   ]
  },
  {
   "cell_type": "code",
   "execution_count": 163,
   "metadata": {},
   "outputs": [],
   "source": [
    "full['Total_Bathrooms'] = full['FullBath'] + full['BsmtFullBath'] + 0.5*full['HalfBath'] + 0.5*full['BsmtHalfBath']"
   ]
  },
  {
   "cell_type": "code",
   "execution_count": 164,
   "metadata": {},
   "outputs": [],
   "source": [
    "full['TotalArea'] = full['TotalBsmtSF'] + full['1stFlrSF'] + full['2ndFlrSF'] + full['GarageArea']"
   ]
  },
  {
   "cell_type": "code",
   "execution_count": 165,
   "metadata": {},
   "outputs": [],
   "source": [
    "full[\"Bsmt\"] = full[\"BsmtFinSF1\"] + full[\"BsmtFinSF2\"] + full[\"BsmtUnfSF\"]\n",
    "full[\"Rooms\"] = full[\"FullBath\"]+full[\"TotRmsAbvGrd\"]\n",
    "full[\"TotalPlace\"] = full[\"TotalBsmtSF\"] + full[\"1stFlrSF\"] + full[\"2ndFlrSF\"] + full[\"GarageArea\"] + full[\"OpenPorchSF\"]+full[\"EnclosedPorch\"]+full[\"3SsnPorch\"]+full[\"ScreenPorch\"]"
   ]
  },
  {
   "cell_type": "code",
   "execution_count": 166,
   "metadata": {},
   "outputs": [
    {
     "name": "stdout",
     "output_type": "stream",
     "text": [
      "Quadratics done!...\n",
      "Cubics done!...\n",
      "Roots done!...\n"
     ]
    }
   ],
   "source": [
    "full[\"OverallQual-2\"] = full[\"OverallQual\"] ** 2\n",
    "full[\"GrLivArea-2\"] = full[\"GrLivArea\"] ** 2\n",
    "full[\"GarageCars-2\"] = full[\"GarageCars\"] ** 2\n",
    "full[\"GarageArea-2\"] = full[\"GarageArea\"] ** 2\n",
    "full[\"TotalBsmtSF-2\"] = full[\"TotalBsmtSF\"] ** 2\n",
    "full[\"1stFlrSF-2\"] = full[\"1stFlrSF\"] ** 2\n",
    "full[\"FullBath-2\"] = full[\"FullBath\"] ** 2\n",
    "full[\"TotRmsAbvGrd-2\"] = full[\"TotRmsAbvGrd\"] ** 2\n",
    "full[\"Fireplaces-2\"] = full[\"Fireplaces\"] ** 2\n",
    "full[\"MasVnrArea-2\"] = full[\"MasVnrArea\"] ** 2\n",
    "full[\"BsmtFinSF1-2\"] = full[\"BsmtFinSF1\"] ** 2\n",
    "full[\"LotFrontage-2\"] = full[\"LotFrontage\"] ** 2\n",
    "full[\"WoodDeckSF-2\"] = full[\"WoodDeckSF\"] ** 2\n",
    "full[\"OpenPorchSF-2\"] = full[\"OpenPorchSF\"] ** 2\n",
    "full[\"2ndFlrSF-2\"] = full[\"2ndFlrSF\"] ** 2\n",
    "print(\"Quadratics done!...\")\n",
    "\n",
    "# Cubic\n",
    "full[\"OverallQual-3\"] = full[\"OverallQual\"] ** 3\n",
    "full[\"GrLivArea-3\"] = full[\"GrLivArea\"] ** 3\n",
    "full[\"GarageCars-3\"] = full[\"GarageCars\"] ** 3\n",
    "full[\"GarageArea-3\"] = full[\"GarageArea\"] ** 3\n",
    "full[\"TotalBsmtSF-3\"] = full[\"TotalBsmtSF\"] ** 3\n",
    "full[\"1stFlrSF-3\"] = full[\"1stFlrSF\"] ** 3\n",
    "full[\"FullBath-3\"] = full[\"FullBath\"] ** 3\n",
    "full[\"TotRmsAbvGrd-3\"] = full[\"TotRmsAbvGrd\"] ** 3\n",
    "full[\"Fireplaces-3\"] = full[\"Fireplaces\"] ** 3\n",
    "full[\"MasVnrArea-3\"] = full[\"MasVnrArea\"] ** 3\n",
    "full[\"BsmtFinSF1-3\"] = full[\"BsmtFinSF1\"] ** 3\n",
    "full[\"LotFrontage-3\"] = full[\"LotFrontage\"] ** 3\n",
    "full[\"WoodDeckSF-3\"] = full[\"WoodDeckSF\"] ** 3\n",
    "full[\"OpenPorchSF-3\"] = full[\"OpenPorchSF\"] ** 3\n",
    "full[\"2ndFlrSF-3\"] = full[\"2ndFlrSF\"] ** 3\n",
    "print(\"Cubics done!...\")\n",
    "\n",
    "# Square Root\n",
    "full[\"OverallQual-Sq\"] = np.sqrt(full[\"OverallQual\"])\n",
    "full[\"GrLivArea-Sq\"] = np.sqrt(full[\"GrLivArea\"])\n",
    "full[\"GarageCars-Sq\"] = np.sqrt(full[\"GarageCars\"])\n",
    "full[\"GarageArea-Sq\"] = np.sqrt(full[\"GarageArea\"])\n",
    "full[\"TotalBsmtSF-Sq\"] = np.sqrt(full[\"TotalBsmtSF\"])\n",
    "full[\"1stFlrSF-Sq\"] = np.sqrt(full[\"1stFlrSF\"])\n",
    "full[\"FullBath-Sq\"] = np.sqrt(full[\"FullBath\"])\n",
    "full[\"TotRmsAbvGrd-Sq\"] = np.sqrt(full[\"TotRmsAbvGrd\"])\n",
    "full[\"Fireplaces-Sq\"] = np.sqrt(full[\"Fireplaces\"])\n",
    "full[\"MasVnrArea-Sq\"] = np.sqrt(full[\"MasVnrArea\"])\n",
    "full[\"BsmtFinSF1-Sq\"] = np.sqrt(full[\"BsmtFinSF1\"])\n",
    "full[\"LotFrontage-Sq\"] = np.sqrt(full[\"LotFrontage\"])\n",
    "full[\"WoodDeckSF-Sq\"] = np.sqrt(full[\"WoodDeckSF\"])\n",
    "full[\"OpenPorchSF-Sq\"] = np.sqrt(full[\"OpenPorchSF\"])\n",
    "full[\"2ndFlrSF-Sq\"] = np.sqrt(full[\"2ndFlrSF\"])\n",
    "print(\"Roots done!...\")"
   ]
  },
  {
   "cell_type": "code",
   "execution_count": 167,
   "metadata": {},
   "outputs": [],
   "source": [
    "cols = ('FireplaceQu', 'BsmtQual', 'BsmtCond', 'GarageQual', 'GarageCond', \n",
    "        'ExterQual', 'ExterCond','HeatingQC', 'PoolQC', 'KitchenQual', 'BsmtFinType1', \n",
    "        'BsmtFinType2', 'Functional', 'Fence', 'BsmtExposure', 'GarageFinish', 'LandSlope',\n",
    "        'LotShape', 'PavedDrive', 'Street', 'Alley', 'CentralAir', 'MSSubClass', 'OverallCond', \n",
    "        'YrSold', 'MoSold')\n",
    "# process columns, apply LabelEncoder to categorical features\n",
    "for c in cols:\n",
    "    lbl = LabelEncoder() \n",
    "    lbl.fit(list(full[c].values)) \n",
    "    full[c] = lbl.transform(list(full[c].values))\n"
   ]
  },
  {
   "cell_type": "code",
   "execution_count": 168,
   "metadata": {},
   "outputs": [],
   "source": [
    "index = train.corr()['SalePrice'][train.corr()['SalePrice'].sort_values(ascending=False)<0.3].index"
   ]
  },
  {
   "cell_type": "code",
   "execution_count": 169,
   "metadata": {},
   "outputs": [],
   "source": [
    "index = index.drop('Id')"
   ]
  },
  {
   "cell_type": "code",
   "execution_count": 170,
   "metadata": {},
   "outputs": [],
   "source": [
    "full.drop(index,axis=1, inplace=True)"
   ]
  },
  {
   "cell_type": "code",
   "execution_count": 171,
   "metadata": {},
   "outputs": [
    {
     "name": "stdout",
     "output_type": "stream",
     "text": [
      "\n",
      "Skew in numerical features: \n",
      "\n",
      "There are 93 skewed numerical features to Box Cox transform\n"
     ]
    }
   ],
   "source": [
    "numeric_feats = full.dtypes[full.dtypes != \"object\"].index\n",
    "\n",
    "# Check the skew of all numerical features\n",
    "skewed_feats = full[numeric_feats].apply(lambda x: skew(x.dropna())).sort_values(ascending=False)\n",
    "print(\"\\nSkew in numerical features: \\n\")\n",
    "skewness = pd.DataFrame({'Skew' :skewed_feats})\n",
    "\n",
    "skewness = skewness[abs(skewness) > 0.75]\n",
    "print(\"There are {} skewed numerical features to Box Cox transform\".format(skewness.shape[0]))\n",
    "\n",
    "from scipy.special import boxcox1p\n",
    "skewed_features = skewness.index\n",
    "lam = 0.15\n",
    "for feat in skewed_features:\n",
    "    #all_data[feat] += 1\n",
    "    full[feat] = boxcox1p(full[feat], lam)"
   ]
  },
  {
   "cell_type": "code",
   "execution_count": 174,
   "metadata": {},
   "outputs": [],
   "source": [
    "full = pd.get_dummies(full)"
   ]
  },
  {
   "cell_type": "code",
   "execution_count": 175,
   "metadata": {},
   "outputs": [
    {
     "data": {
      "text/plain": [
       "(2916, 254)"
      ]
     },
     "execution_count": 175,
     "metadata": {},
     "output_type": "execute_result"
    }
   ],
   "source": [
    "full.shape"
   ]
  },
  {
   "cell_type": "code",
   "execution_count": 176,
   "metadata": {},
   "outputs": [],
   "source": [
    "from sklearn.preprocessing import StandardScaler,RobustScaler"
   ]
  },
  {
   "cell_type": "code",
   "execution_count": 177,
   "metadata": {},
   "outputs": [],
   "source": [
    "full = RobustScaler().fit_transform(full)"
   ]
  },
  {
   "cell_type": "code",
   "execution_count": 228,
   "metadata": {},
   "outputs": [],
   "source": [
    "train_len = len(train)\n",
    "train_x = full[:train_len]\n",
    "test_x = full[train_len:]\n",
    "y_train = np.log1p(train.SalePrice)"
   ]
  },
  {
   "cell_type": "markdown",
   "metadata": {},
   "source": [
    "# 模型融合"
   ]
  },
  {
   "cell_type": "code",
   "execution_count": 179,
   "metadata": {},
   "outputs": [],
   "source": [
    "from sklearn.model_selection import train_test_split\n",
    "from sklearn.model_selection import KFold,cross_val_score\n",
    "from sklearn.metrics import mean_squared_error"
   ]
  },
  {
   "cell_type": "code",
   "execution_count": 180,
   "metadata": {},
   "outputs": [],
   "source": [
    "X_train,X_val,y_train,y_val = train_test_split(train_x,y,test_size=0.2,random_state=42)"
   ]
  },
  {
   "cell_type": "code",
   "execution_count": 181,
   "metadata": {},
   "outputs": [],
   "source": [
    "def rmse_cv(model,X,y):\n",
    "    rmse = np.sqrt(-cross_val_score(model,X,y,scoring='neg_mean_squared_error',cv=5))\n",
    "    return rmse"
   ]
  },
  {
   "cell_type": "code",
   "execution_count": 182,
   "metadata": {},
   "outputs": [],
   "source": [
    "def benchmark(model):\n",
    "    pred = model.predict(X_val)\n",
    "    rmse = np.sqrt(mean_squared_error(y_val,pred))\n",
    "    return rmse"
   ]
  },
  {
   "cell_type": "code",
   "execution_count": 183,
   "metadata": {},
   "outputs": [],
   "source": [
    "def rmse(y,y_pred):\n",
    "    rmse = np.sqrt(mean_squared_error(y,y_pred))\n",
    "    return rmse"
   ]
  },
  {
   "cell_type": "markdown",
   "metadata": {},
   "source": [
    "# 模型测试"
   ]
  },
  {
   "cell_type": "markdown",
   "metadata": {},
   "source": [
    "# Ridge Regression"
   ]
  },
  {
   "cell_type": "code",
   "execution_count": 230,
   "metadata": {},
   "outputs": [],
   "source": [
    "from sklearn.model_selection import KFold\n",
    "from sklearn.linear_model import Ridge\n",
    "from sklearn.linear_model import Lasso\n",
    "from sklearn.linear_model import ElasticNet,BayesianRidge\n",
    "import xgboost as xgb\n",
    "from sklearn.ensemble import GradientBoostingRegressor,RandomForestRegressor,ExtraTreesRegressor\n",
    "from mlxtend.regressor import StackingCVRegressor\n",
    "from lightgbm import  LGBMRegressor\n",
    "from sklearn.svm import LinearSVR\n",
    "from sklearn.kernel_ridge import KernelRidge\n",
    "from sklearn.model_selection import cross_val_score, GridSearchCV, KFold\n",
    "from sklearn.model_selection import ShuffleSplit\n",
    "from sklearn.feature_selection import SelectFromModel"
   ]
  },
  {
   "cell_type": "code",
   "execution_count": 185,
   "metadata": {},
   "outputs": [],
   "source": [
    "alphas = [0.0001,0.0003,0.0005, 0.0009,\n",
    "          0.01,0.03,0.05, 0.09,\n",
    "          0.1,0.3,0.9,\n",
    "          1,3,5,7,9,\n",
    "          10,20,30,40,60,70,80,90]\n",
    "alphas2 = [0.00005,0.0001,0.0002,0.0005,0.0006,0.0007,0.0008,0.0009]\n",
    "e_alphas = [0.0001, 0.0002, 0.0003, 0.0004, 0.0005, 0.0006, 0.0007]\n",
    "e_l1ratio = [0.8, 0.85, 0.9, 0.95, 0.99, 1]"
   ]
  },
  {
   "cell_type": "code",
   "execution_count": 186,
   "metadata": {},
   "outputs": [],
   "source": [
    "rcv = RidgeCV(alphas=alphas,cv=5)\n",
    "\n",
    "lcv = LassoCV(alphas=alphas2,cv=5)\n",
    "\n",
    "elastic_cv = ElasticNetCV( alphas=e_alphas, cv=5, l1_ratio=e_l1ratio)\n",
    "\n",
    "xg_reg=xgb.XGBRegressor(colsample_bytree=0.4603, gamma=0.0468, \n",
    "                             learning_rate=0.05, max_depth=3, \n",
    "                             min_child_weight=1.7817, n_estimators=2200,\n",
    "                             reg_alpha=0.4640, reg_lambda=0.8571,\n",
    "                             subsample=0.5213, silent=1,\n",
    "                             random_state =7, nthread = -1)\n",
    "\n",
    "gbr = GradientBoostingRegressor(n_estimators=3000, learning_rate=0.05,\n",
    "                                   max_depth=4, max_features='sqrt',\n",
    "                                   min_samples_leaf=15, min_samples_split=10, \n",
    "                                   loss='huber', random_state =5)\n",
    "\n",
    "lightgbm = LGBMRegressor(objective='regression', \n",
    "                                       num_leaves=4,\n",
    "                                       learning_rate=0.01, \n",
    "                                       n_estimators=5000,\n",
    "                                       max_bin=200, \n",
    "                                       bagging_fraction=0.75,\n",
    "                                       bagging_freq=5, \n",
    "                                       bagging_seed=7,\n",
    "                                       feature_fraction=0.2,\n",
    "                                       feature_fraction_seed=7,\n",
    "                                       verbose=-1,\n",
    "                                       #min_data_in_leaf=2,\n",
    "                                       #min_sum_hessian_in_leaf=11\n",
    "                                       )\n",
    "\n",
    "rf = RandomForestRegressor()\n",
    "linsvr = LinearSVR()\n",
    "extra = ExtraTreesRegressor()"
   ]
  },
  {
   "cell_type": "code",
   "execution_count": 187,
   "metadata": {},
   "outputs": [
    {
     "name": "stdout",
     "output_type": "stream",
     "text": [
      "rcv 0.10445785\n",
      "lcv 0.10344151\n",
      "elastic_cv 0.10294733\n",
      "xg_reg 0.07702256\n",
      "gbr 0.05774912\n",
      "lightgbm 0.08171781\n",
      "rf 0.05391853\n",
      "linsvr 0.12229865\n"
     ]
    }
   ],
   "source": [
    "names = ['rcv','lcv','elastic_cv','xg_reg','gbr','lightgbm','rf','linsvr']\n",
    "models = [rcv,lcv,elastic_cv,xg_reg,gbr,lightgbm,rf,linsvr]\n",
    "for name, model in zip(names,models):\n",
    "    gs_alg = GridSearchCV(alg, param_grid = params_grid[0], cv = shuff, scoring = 'neg_mean_squared_error', n_jobs=-1)\n",
    "    print(\"{} {:.8f}\".format(name, benchmark(model)))"
   ]
  },
  {
   "cell_type": "code",
   "execution_count": 188,
   "metadata": {},
   "outputs": [],
   "source": [
    "from mlxtend.regressor import StackingCVRegressor"
   ]
  },
  {
   "cell_type": "code",
   "execution_count": 189,
   "metadata": {},
   "outputs": [],
   "source": [
    "stack_gen = StackingCVRegressor(regressors=(rcv,lcv,,rf,linsvr),\n",
    "                               meta_regressor=xg_reg,\n",
    "                               use_features_in_secondary=True)"
   ]
  },
  {
   "cell_type": "code",
   "execution_count": 190,
   "metadata": {},
   "outputs": [
    {
     "data": {
      "text/plain": [
       "StackingCVRegressor(cv=5,\n",
       "                    meta_regressor=XGBRegressor(base_score=0.5,\n",
       "                                                booster='gbtree',\n",
       "                                                colsample_bylevel=1,\n",
       "                                                colsample_bytree=0.4603,\n",
       "                                                gamma=0.0468,\n",
       "                                                importance_type='gain',\n",
       "                                                learning_rate=0.05,\n",
       "                                                max_delta_step=0, max_depth=3,\n",
       "                                                min_child_weight=1.7817,\n",
       "                                                missing=None, n_estimators=2200,\n",
       "                                                n_jobs=1, nthread=-1,\n",
       "                                                objective='reg:linear',\n",
       "                                                random_state=7, reg_alpha=0.464,\n",
       "                                                reg_lamb...\n",
       "                                                      min_weight_fraction_leaf=0.0,\n",
       "                                                      n_estimators=10,\n",
       "                                                      n_jobs=None,\n",
       "                                                      oob_score=False,\n",
       "                                                      random_state=None,\n",
       "                                                      verbose=0,\n",
       "                                                      warm_start=False),\n",
       "                                LinearSVR(C=1.0, dual=True, epsilon=0.0,\n",
       "                                          fit_intercept=True,\n",
       "                                          intercept_scaling=1.0,\n",
       "                                          loss='epsilon_insensitive',\n",
       "                                          max_iter=1000, random_state=None,\n",
       "                                          tol=0.0001, verbose=0)),\n",
       "                    shuffle=True, store_train_meta_features=False,\n",
       "                    use_features_in_secondary=True, verbose=0)"
      ]
     },
     "execution_count": 190,
     "metadata": {},
     "output_type": "execute_result"
    }
   ],
   "source": [
    "stack_gen.fit(train_x,y)"
   ]
  },
  {
   "cell_type": "code",
   "execution_count": 191,
   "metadata": {},
   "outputs": [
    {
     "data": {
      "text/plain": [
       "0.07342952156095485"
      ]
     },
     "execution_count": 191,
     "metadata": {},
     "output_type": "execute_result"
    }
   ],
   "source": [
    "benchmark(stack_gen)"
   ]
  },
  {
   "cell_type": "code",
   "execution_count": 198,
   "metadata": {},
   "outputs": [],
   "source": [
    "pred = 0.2*lightgbm.predict(test_x)+\\\n",
    "       0.2*xg_reg.predict(test_x)+\\\n",
    "       0.2*stack_gen.predict(test_x)+\\\n",
    "       0.4*gbr.predict(test_x)"
   ]
  },
  {
   "cell_type": "code",
   "execution_count": 193,
   "metadata": {},
   "outputs": [
    {
     "data": {
      "text/plain": [
       "0.067034264178803"
      ]
     },
     "execution_count": 193,
     "metadata": {},
     "output_type": "execute_result"
    }
   ],
   "source": [
    "rmse(pred,y_val)"
   ]
  },
  {
   "cell_type": "code",
   "execution_count": 199,
   "metadata": {},
   "outputs": [],
   "source": [
    "pred = np.expm1(pred)"
   ]
  },
  {
   "cell_type": "code",
   "execution_count": 200,
   "metadata": {},
   "outputs": [],
   "source": [
    "a = [round(a) for a in pred]"
   ]
  },
  {
   "cell_type": "code",
   "execution_count": 201,
   "metadata": {},
   "outputs": [],
   "source": [
    "result = pd.DataFrame({'Id':test.Id,'SalePrice':a})\n",
    "result.to_csv('submission.csv',index=False)"
   ]
  },
  {
   "cell_type": "code",
   "execution_count": 234,
   "metadata": {},
   "outputs": [],
   "source": [
    "KR_param_grid = {'alpha': [0.1], 'coef0': [100], 'degree': [1], 'gamma': [None], 'kernel': ['polynomial']}\n",
    "EN_param_grid = {'alpha': [0.001], 'copy_X': [True], 'l1_ratio': [0.6], 'fit_intercept': [True], 'normalize': [False], \n",
    "                         'precompute': [False], 'max_iter': [300], 'tol': [0.001], 'selection': ['random'], 'random_state': [None]}\n",
    "LASS_param_grid = {'alpha': [0.0005], 'copy_X': [True], 'fit_intercept': [True], 'normalize': [False], 'precompute': [False], \n",
    "                    'max_iter': [300], 'tol': [0.01], 'selection': ['random'], 'random_state': [None]}\n",
    "GB_param_grid = {'loss': ['huber'], 'learning_rate': [0.1], 'n_estimators': [300], 'max_depth': [3], \n",
    "                                        'min_samples_split': [0.0025], 'min_samples_leaf': [5]}\n",
    "BR_param_grid = {'n_iter': [200], 'tol': [0.00001], 'alpha_1': [0.00000001], 'alpha_2': [0.000005], 'lambda_1': [0.000005], \n",
    "                 'lambda_2': [0.00000001], 'copy_X': [True]}\n",
    "LL_param_grid = {'criterion': ['aic'], 'normalize': [True], 'max_iter': [100], 'copy_X': [True], 'precompute': ['auto'], 'eps': [0.000001]}\n",
    "RFR_param_grid = {'n_estimators': [50], 'max_features': ['auto'], 'max_depth': [None], 'min_samples_split': [5], 'min_samples_leaf': [2]}\n",
    "XGB_param_grid = {'max_depth': [3], 'learning_rate': [0.1], 'n_estimators': [300], 'booster': ['gbtree'], 'gamma': [0], 'reg_alpha': [0.1],\n",
    "                  'reg_lambda': [0.7], 'max_delta_step': [0], 'min_child_weight': [1], 'colsample_bytree': [0.5], 'colsample_bylevel': [0.2],\n",
    "                  'scale_pos_weight': [1]}\n",
    "params_grid = [KR_param_grid, EN_param_grid, LASS_param_grid, GB_param_grid, BR_param_grid, LL_param_grid, RFR_param_grid, XGB_param_grid]"
   ]
  },
  {
   "cell_type": "code",
   "execution_count": null,
   "metadata": {},
   "outputs": [],
   "source": []
  },
  {
   "cell_type": "code",
   "execution_count": null,
   "metadata": {},
   "outputs": [],
   "source": []
  }
 ],
 "metadata": {
  "kernelspec": {
   "display_name": "Python 3",
   "language": "python",
   "name": "python3"
  },
  "language_info": {
   "codemirror_mode": {
    "name": "ipython",
    "version": 3
   },
   "file_extension": ".py",
   "mimetype": "text/x-python",
   "name": "python",
   "nbconvert_exporter": "python",
   "pygments_lexer": "ipython3",
   "version": "3.5.2"
  }
 },
 "nbformat": 4,
 "nbformat_minor": 2
}
